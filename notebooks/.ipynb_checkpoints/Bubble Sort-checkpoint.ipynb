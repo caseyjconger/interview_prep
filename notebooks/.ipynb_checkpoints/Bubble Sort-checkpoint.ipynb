{
 "cells": [
  {
   "cell_type": "markdown",
   "metadata": {},
   "source": [
    "# Algorithms - Bubble Sort"
   ]
  },
  {
   "cell_type": "markdown",
   "metadata": {},
   "source": [
    "**Bubble Sort** is a basic sorting algorithm which is oftentimes too slow to be practical. The basic idea is to move through the elements comparing each consecutive pair and reversing them if necessary. This process is repeated until a sweep through the list requires no switching."
   ]
  },
  {
   "cell_type": "markdown",
   "metadata": {},
   "source": [
    "## Performance"
   ]
  },
  {
   "cell_type": "markdown",
   "metadata": {},
   "source": [
    "**Complexity**\n",
    "* **Best case**: $\\mathcal{O}(n)$ The best case performance is when the list is already sorted and thus it will only scan through the list once doing a comparison for each element in the sequence, hence $\\mathcal{O}(n)$\n",
    "* **Worst case**: $\\mathcal{O}(n^2)$ The worst case occurs when the sequence is in reverse order. In this case, we have to do $n-1$ comparisons for each scan, and we will have to do $\\sim n$ scans since the first scan will move the greatest element to the back, then the second greatest on the next scan and so on.\n",
    "* **Average case**: $\\mathcal{O}(n^2)$ For each scan we do $n-1$ comparisons. For the average case, we can imagine that roughly half of the elements are incorrectly ordered, which is still $\\sim n$. Thus, quadratic."
   ]
  },
  {
   "cell_type": "markdown",
   "metadata": {},
   "source": [
    "## Pseudocode implementation"
   ]
  },
  {
   "cell_type": "markdown",
   "metadata": {},
   "source": [
    "<pre>\n",
    "<b>procedure</b> bubbleSort(arr : array of sortable items):\n",
    "    n &larr; length(arr)\n",
    "    <b>repeat</b>:\n",
    "        swapped &larr; False\n",
    "        <b>for</b> i = 1 to n-1 inclusive <b>do</b>:\n",
    "            <b>if</b> arr[i-1] > arr[i] <b>then</b>:\n",
    "                swap(arr[i-1], arr[i])\n",
    "                swapped &larr; True\n",
    "            <b>end if</b>\n",
    "        <b>end for</b>\n",
    "    <b>until not swapped</b>\n",
    "</pre>"
   ]
  },
  {
   "cell_type": "markdown",
   "metadata": {},
   "source": [
    "## Variations and Optimizations"
   ]
  },
  {
   "cell_type": "markdown",
   "metadata": {},
   "source": [
    "We can optimize bubble sort by noting that the first pass finds the largest element and puts it in the final position. Now we don't need to check if it is sorted anymore during our scans.\n",
    "<pre>\n",
    "<b>procedure</b> bubbleSort(arr : array of sortable items):\n",
    "    n &larr; length(arr)\n",
    "    <b>do</b>:\n",
    "        swapped &larr; False\n",
    "        <b>for</b> i = 1 to n-1 inclusive <b>do</b>:\n",
    "            <b>if</b> arr[i-1] > arr[i] <b>then</b>:\n",
    "                swap(arr[i-1], arr[i])\n",
    "                swapped &larr; True\n",
    "            <b>end if</b>\n",
    "        <b>end for</b>\n",
    "        n &larr; n-1    <i># Here we decrease the number of iterations in the for loop</i>\n",
    "    <b>while</b> swapped\n",
    "<b>end procedure</b>\n",
    "</pre>\n",
    "\n",
    "**Cocktail Shaker Sort** - Similar to bubble sort, except instead of always scanning from left to right, it will switch directions after each scan. Thus, moving large elements to the right on the forward pass, and moving small elements to the left on the backwards pass. *Only marginal performance gains - No improvement of asymptotic performance*.\n",
    "<pre>\n",
    "<b>procedure</b> cocktailShakerSort( arr : array of sortable items):\n",
    "    n &larr; length(arr)\n",
    "    <b>do</b>:\n",
    "        <i># Forward Pass</i>\n",
    "        swapped &larr; False\n",
    "        <b>for</b> i = 1 to n-1 inclusive <b>do</b>:\n",
    "            <b>if</b> arr[i-1] > arr[i] <b>then</b>:\n",
    "                swap(arr[i-1], arr[i])\n",
    "                swapped &larr; True\n",
    "            <b>end if</b>\n",
    "        <b>end for</b>\n",
    "        <b>if not</b> swapped:\n",
    "            <b>break do-while loop</b>\n",
    "        <b>end if</b>\n",
    "        <i># Backward Pass</i>\n",
    "        <b>for</b> i = n-1 to 1 inclusive <b>do</b>:\n",
    "            <b>if</b> arr[i] < arr[i-1] <b>then</b>:\n",
    "                swap(arr[i-1], arr[i])\n",
    "                swapped &larr; True\n",
    "            <b>end if</b>\n",
    "        <b>end for</b>\n",
    "    <b>while</b> swapped\n",
    "<b>end procedure</b>\n",
    "</pre>\n",
    "\n",
    "**Comb Sort** - Similar to bubble sort, except instead of always comparing consecutive pairs, we compare elements separated by larger distance goverened by a *shrink factor* $k$, i.e. $[ n/k, n/k^2, n/k^3, \\cdots, 1]$. *Improves average case performance but decreases best case performance*."
   ]
  },
  {
   "cell_type": "markdown",
   "metadata": {},
   "source": [
    "## Exercises"
   ]
  },
  {
   "cell_type": "markdown",
   "metadata": {},
   "source": [
    "[Count Swaps](https://www.hackerrank.com/challenges/ctci-bubble-sort/problem?h_l=interview&playlist_slugs%5B%5D=interview-preparation-kit&playlist_slugs%5B%5D=sorting)"
   ]
  },
  {
   "cell_type": "markdown",
   "metadata": {},
   "source": [
    "![Count Swaps](imgs/bubble-sort-count-swaps.png)"
   ]
  },
  {
   "cell_type": "code",
   "execution_count": 48,
   "metadata": {},
   "outputs": [],
   "source": [
    "def bubbleSort(a):\n",
    "    arr = a.copy()\n",
    "    n = len(arr)\n",
    "    swapped = None\n",
    "    num_swaps = 0\n",
    "    \n",
    "    while swapped != False:\n",
    "        swapped = False\n",
    "        for ii in range(n - 1):\n",
    "            if arr[ii + 1] < arr[ii]:\n",
    "                arr[ii + 1], arr[ii] = arr[ii], arr[ii + 1]\n",
    "                swapped = True\n",
    "                num_swaps += 1\n",
    "    return arr, num_swaps"
   ]
  },
  {
   "cell_type": "code",
   "execution_count": 46,
   "metadata": {
    "collapsed": true
   },
   "outputs": [],
   "source": [
    "def countSwaps(a):\n",
    "    arr = a.copy()\n",
    "    arr, num_swaps = bubbleSort(arr)\n",
    "    print('Array is sorted in {} swaps.'.format(num_swaps))\n",
    "    print('First Element: {}'.format(arr[0]))\n",
    "    print('Last Element: {}'.format(arr[-1]))"
   ]
  },
  {
   "cell_type": "code",
   "execution_count": 47,
   "metadata": {},
   "outputs": [
    {
     "name": "stdout",
     "output_type": "stream",
     "text": [
      "Array is sorted in 22 swaps.\n",
      "First Element: 0\n",
      "Last Element: 9\n"
     ]
    }
   ],
   "source": [
    "countSwaps(arr)"
   ]
  }
 ],
 "metadata": {
  "kernelspec": {
   "display_name": "interview_prep",
   "language": "python",
   "name": "interview_prep"
  },
  "language_info": {
   "codemirror_mode": {
    "name": "ipython",
    "version": 3
   },
   "file_extension": ".py",
   "mimetype": "text/x-python",
   "name": "python",
   "nbconvert_exporter": "python",
   "pygments_lexer": "ipython3",
   "version": "3.5.2"
  }
 },
 "nbformat": 4,
 "nbformat_minor": 2
}
