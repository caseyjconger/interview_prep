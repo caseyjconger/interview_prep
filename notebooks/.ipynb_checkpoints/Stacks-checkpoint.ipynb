{
 "cells": [
  {
   "cell_type": "markdown",
   "metadata": {},
   "source": [
    "# Data Structures - Stacks"
   ]
  },
  {
   "cell_type": "markdown",
   "metadata": {},
   "source": [
    "A **stack** is an abstract data type is an abstract data type that serves as collection of elements with two principal operations:\n",
    "\n",
    "* Push - adds element to 'top' of stack\n",
    "* Pop - removes element from 'top' of stack\n",
    "\n",
    "i.e. it follows a **Last In, First Out**."
   ]
  },
  {
   "cell_type": "markdown",
   "metadata": {},
   "source": [
    "![LIFO](imgs/LIFO_stack.png)"
   ]
  },
  {
   "cell_type": "markdown",
   "metadata": {},
   "source": [
    "Other facts and features:\n",
    "* Linear data structure (i.e. it's elements form a sequence)\n",
    "* Possible to be implemented as a singly linked list + pointer to top element\n",
    "* If the stack does not have enough memory to store a new pushed element, it is in an **overflow** state\n",
    "* Often include a non-essential 'peek' function that allows you to see what is at the top of the stack without removing it."
   ]
  },
  {
   "cell_type": "markdown",
   "metadata": {},
   "source": [
    "## Pseudocode Implementation"
   ]
  },
  {
   "cell_type": "markdown",
   "metadata": {},
   "source": [
    "### Stack as an Array"
   ]
  },
  {
   "cell_type": "markdown",
   "metadata": {},
   "source": [
    "<pre>\n",
    "## Data Structures ##\n",
    "\n",
    "<b>structure</b> stack:\n",
    "    maxsize : integer       <i># index of maximum element, above which an overflow will occur</i>\n",
    "    top : integer           <i># index of top element</i>\n",
    "    items : array of items  <i># array of elements</i>\n",
    "    \n",
    "## Functions ##\n",
    "\n",
    "<b>procedure</b> initialize(stk : stack, size : integer):\n",
    "    <i>'''Constructor for new, empty stack'''</i>\n",
    "    stk.items &larr; new array of <i>size</i> items, initially empty\n",
    "    stk.maxsize &larr; size\n",
    "    stk.top &larr; -1\n",
    "    \n",
    "<b>procedure</b> push(stk : stack, x : item):\n",
    "    '''Adds element x to top of stack and increments top'''\n",
    "    <b>if</b> stk.top = stk.maxsize:\n",
    "        report overflow error\n",
    "    <b>else</b>:\n",
    "        stk.top &larr; stk.top + 1\n",
    "        stk.items[stk.top] &larr; x\n",
    "        \n",
    "<b>procedure</b> pop(stk : stack):\n",
    "    '''removes top element x'''\n",
    "    <b>if</b> stk.top = -1:\n",
    "        report underflow error\n",
    "    <b>else</b>:\n",
    "        r &larr; stk.items[stk.top]\n",
    "        stk.top &larr; stk.top - 1\n",
    "        <b>return</b> r\n",
    "</pre>\n",
    "\n",
    "**Note**: This is a little different than whats on wikipedia, because I didn't like `top` being used as the number of elements in the stack, as opposed to pointing to the top element. Thus, I simply use `top = -1` to denote an empty stack, i.e. one with no top element."
   ]
  },
  {
   "cell_type": "markdown",
   "metadata": {},
   "source": [
    "### Stack as a Singly Linked List"
   ]
  },
  {
   "cell_type": "markdown",
   "metadata": {},
   "source": [
    "<pre>\n",
    "## Data Structures ##\n",
    "\n",
    "<b>structure</b> frame:\n",
    "    '''Structure of each node in the linked list'''\n",
    "    data : item          <i># data stored in node</i>\n",
    "    next : frame or nil  <i># pointer to next node</i>\n",
    "    \n",
    "<b>structure</b> stack:\n",
    "    '''Structure of the stack'''\n",
    "    head : frame or nil   <i># top element of stack</i>\n",
    "    size : integer        <i># size of stack</i>\n",
    "\n",
    "## Functions ##\n",
    "\n",
    "<b>procedure</b> initialize(stk: stack):\n",
    "    '''Constructor for empty stack'''\n",
    "    stk.head &larr; nil\n",
    "    stk.size &larr; 0\n",
    "    \n",
    "<b>procedure</b> push(stk : stack, x : item):\n",
    "    '''Adds element x to the top of stack'''\n",
    "    newhead &larr; new frame\n",
    "    newhead.data &larr; x\n",
    "    newhead.next &larr; stk.head\n",
    "    stk.head &larr; newhead\n",
    "    stk.size &larr; stk.size + 1\n",
    "\n",
    "<b>procedure</b> pop(stk : stack):\n",
    "    '''Removes top element of stack'''\n",
    "    <b>if</b> stk.head = nil:\n",
    "        report underflow error\n",
    "    <b>else:</b>\n",
    "        r &larr; stk.head.data\n",
    "        stk.head &larr; stk.head.next\n",
    "        stk.size &larr; stk.size - 1\n",
    "        <b>return</b> r\n",
    "</pre>\n",
    "\n"
   ]
  },
  {
   "cell_type": "markdown",
   "metadata": {},
   "source": [
    "# Exercises"
   ]
  },
  {
   "cell_type": "markdown",
   "metadata": {},
   "source": [
    "## [HackerRank] Maximum Element"
   ]
  },
  {
   "cell_type": "markdown",
   "metadata": {},
   "source": [
    "[Maximum Element](https://www.hackerrank.com/challenges/maximum-element/problem)"
   ]
  },
  {
   "cell_type": "markdown",
   "metadata": {},
   "source": [
    "![Max El](imgs/maximum-element.png)"
   ]
  },
  {
   "cell_type": "code",
   "execution_count": 2,
   "metadata": {},
   "outputs": [],
   "source": [
    "import sys\n",
    "\n",
    "class Stack(object):\n",
    "    '''\n",
    "    Class implementing stack as an array\n",
    "    '''\n",
    "    def __init__(self, arr=None, maxsize=100000):\n",
    "        self.maxsize = maxsize\n",
    "        if arr is not None:\n",
    "            if len(arr) > self.maxsize:\n",
    "                raise MemoryError\n",
    "            self.items = arr\n",
    "        else:\n",
    "            self.items = []\n",
    "\n",
    "    def push(self, x):\n",
    "        self.items.append(x)\n",
    "\n",
    "    def pop(self):\n",
    "        return self.items.pop(-1)\n",
    "\n",
    "    def peek(self):\n",
    "        return self.items[-1]\n",
    "\n",
    "def main():\n",
    "    # Need two stacks because running max(stack.items) takes too long\n",
    "    stack = Stack()\n",
    "    max_stack = Stack()\n",
    "    \n",
    "    num_entries = int(sys.stdin.readline())\n",
    "    for _ in range(num_entries):\n",
    "        # Read and clean input\n",
    "        entry = sys.stdin.readline()\n",
    "        entry_split = entry.rstrip()\n",
    "        entry_split = entry_split.split(' ')\n",
    "        \n",
    "        if entry_split[0] == '1':\n",
    "            val = int(entry_split[1])\n",
    "            if max_stack.items == []:\n",
    "                max_stack.push(val)\n",
    "            elif val >= max_stack.items[-1]:\n",
    "                max_stack.push(val)\n",
    "            stack.push(int(entry_split[1]))\n",
    "            \n",
    "        elif entry_split[0] == '2':\n",
    "            if stack.peek() == max_stack.peek():\n",
    "                max_stack.pop()\n",
    "            stack.pop()\n",
    "            \n",
    "        elif entry_split[0] == '3':\n",
    "            max_element = max_stack.peek()\n",
    "            print(max_element)\n",
    "        else:\n",
    "            raise NameError\n",
    "\n",
    "\n",
    "# if __name__ == '__main__':\n",
    "#     main()"
   ]
  },
  {
   "cell_type": "markdown",
   "metadata": {},
   "source": [
    "## [Hacker Rank] Balanced Brackets"
   ]
  },
  {
   "cell_type": "markdown",
   "metadata": {},
   "source": [
    "[Balanced Brackets](https://www.hackerrank.com/challenges/balanced-brackets/problem)"
   ]
  },
  {
   "cell_type": "markdown",
   "metadata": {},
   "source": [
    "![bb](imgs/balanced-brackets.png)"
   ]
  },
  {
   "cell_type": "code",
   "execution_count": 25,
   "metadata": {
    "collapsed": true
   },
   "outputs": [],
   "source": [
    "class Stack(object):\n",
    "    '''\n",
    "    Class implementing stack as an array\n",
    "    '''\n",
    "    def __init__(self, arr=None, maxsize=100000):\n",
    "        self.maxsize = maxsize\n",
    "        if arr is not None:\n",
    "            if len(arr) > self.maxsize:\n",
    "                raise MemoryError\n",
    "            self.items = arr\n",
    "        else:\n",
    "            self.items = []\n",
    "\n",
    "    def push(self, x):\n",
    "        self.items.append(x)\n",
    "\n",
    "    def pop(self):\n",
    "        return self.items.pop(-1)\n",
    "\n",
    "    def peek(self):\n",
    "        return self.items[-1]\n",
    "    \n",
    "complement = {\n",
    "    '[': ']',\n",
    "    ']': '[',\n",
    "    '(': ')',\n",
    "    ')': '(',\n",
    "    '{': '}',\n",
    "    '}':'{'\n",
    "}\n",
    "open_brackets = ['[', '(', '{']\n",
    "close_brackets = [']', ')', '}']\n",
    "\n",
    "def isBalanced(bracket_string):\n",
    "    brackets = [x for x in bracket_string]\n",
    "    stack = Stack(arr=brackets)\n",
    "    undo_stack = Stack()\n",
    "    while stack.items != []:\n",
    "        brack = stack.pop()\n",
    "        if brack in close_brackets:\n",
    "            undo_stack.push(brack)\n",
    "        else:\n",
    "            if undo_stack.items == []:\n",
    "                undo_stack.push(brack)\n",
    "                if brack in open_brackets:\n",
    "                    return 'NO'\n",
    "            elif brack == complement[undo_stack.peek()]:\n",
    "                undo_stack.pop()\n",
    "            else:\n",
    "                undo_stack.push(brack)\n",
    "    if undo_stack.items == []:\n",
    "        return 'YES'\n",
    "    else:\n",
    "        return 'NO'"
   ]
  },
  {
   "cell_type": "code",
   "execution_count": null,
   "metadata": {
    "collapsed": true
   },
   "outputs": [],
   "source": []
  }
 ],
 "metadata": {
  "kernelspec": {
   "display_name": "interview_prep",
   "language": "python",
   "name": "interview_prep"
  },
  "language_info": {
   "codemirror_mode": {
    "name": "ipython",
    "version": 3
   },
   "file_extension": ".py",
   "mimetype": "text/x-python",
   "name": "python",
   "nbconvert_exporter": "python",
   "pygments_lexer": "ipython3",
   "version": "3.5.2"
  }
 },
 "nbformat": 4,
 "nbformat_minor": 2
}
