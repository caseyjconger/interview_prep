{
 "cells": [
  {
   "cell_type": "markdown",
   "metadata": {},
   "source": [
    "# Preparation for Facebook Technical Questions"
   ]
  },
  {
   "cell_type": "markdown",
   "metadata": {},
   "source": [
    "Here are my notes for preparing for the technical portion of the interview. To simulate interview conditions, I wrote all code in markdown mode only converting the cells to executable after I felt comfortable they were correct."
   ]
  },
  {
   "cell_type": "markdown",
   "metadata": {},
   "source": [
    "## Notes"
   ]
  },
  {
   "cell_type": "markdown",
   "metadata": {},
   "source": [
    "<a id='pandas-dates'></a> [**Pandas - Time Series / Date Functionality**](http://pandas.pydata.org/pandas-docs/version/0.23/timeseries.html)"
   ]
  },
  {
   "cell_type": "markdown",
   "metadata": {},
   "source": [
    "* Uses the numpy ```datetime64``` and ```timedelta64``` datatypes"
   ]
  },
  {
   "cell_type": "markdown",
   "metadata": {},
   "source": [
    "<table border=\"1\" class=\"docutils\">\n",
    "<colgroup>\n",
    "<col width=\"15%\">\n",
    "<col width=\"27%\">\n",
    "<col width=\"58%\">\n",
    "</colgroup>\n",
    "\n",
    "<thead valign=\"bottom\">\n",
    "<tr class=\"row-odd\"><th class=\"head\">Class</th>\n",
    "<th class=\"head\">Remarks</th>\n",
    "<th class=\"head\">How to create</th>\n",
    "</tr>\n",
    "</thead><tbody valign=\"top\">\n",
    "<tr class=\"row-even\"><td><code class=\"docutils literal notranslate\"><span class=\"pre\">Timestamp</span></code></td>\n",
    "<td>Represents a single timestamp</td>\n",
    "<td><code class=\"docutils literal notranslate\"><span class=\"pre\">to_datetime</span></code>, <code class=\"docutils literal notranslate\"><span class=\"pre\">Timestamp</span></code></td>\n",
    "</tr>\n",
    "<tr class=\"row-odd\"><td><code class=\"docutils literal notranslate\"><span class=\"pre\">DatetimeIndex</span></code></td>\n",
    "<td>Index of <code class=\"docutils literal notranslate\"><span class=\"pre\">Timestamp</span></code></td>\n",
    "<td><code class=\"docutils literal notranslate\"><span class=\"pre\">to_datetime</span></code>, <code class=\"docutils literal notranslate\"><span class=\"pre\">date_range</span></code>, <code class=\"docutils literal notranslate\"><span class=\"pre\">bdate_range</span></code>, <code class=\"docutils literal notranslate\"><span class=\"pre\">DatetimeIndex</span></code></td>\n",
    "</tr>\n",
    "<tr class=\"row-even\"><td><code class=\"docutils literal notranslate\"><span class=\"pre\">Period</span></code></td>\n",
    "<td>Represents a single time span</td>\n",
    "<td><code class=\"docutils literal notranslate\"><span class=\"pre\">Period</span></code></td>\n",
    "</tr>\n",
    "<tr class=\"row-odd\"><td><code class=\"docutils literal notranslate\"><span class=\"pre\">PeriodIndex</span></code></td>\n",
    "<td>Index of <code class=\"docutils literal notranslate\"><span class=\"pre\">Period</span></code></td>\n",
    "<td><code class=\"docutils literal notranslate\"><span class=\"pre\">period_range</span></code>, <code class=\"docutils literal notranslate\"><span class=\"pre\">PeriodIndex</span></code></td>\n",
    "</tr>\n",
    "</tbody>\n",
    "</table>"
   ]
  },
  {
   "cell_type": "markdown",
   "metadata": {},
   "source": [
    "## Exercises"
   ]
  },
  {
   "cell_type": "markdown",
   "metadata": {},
   "source": [
    "### Mock Question from E-mail"
   ]
  },
  {
   "cell_type": "markdown",
   "metadata": {},
   "source": [
    "An attendance log for every student in a school district ```attendance_events```:\n",
    "\n",
    "| date | student_id | attendance |\n",
    "|:----:|:----------:|:----------:|\n",
    "\n",
    "A summary table with demographics for each student in the ```district all_students```: \n",
    "\n",
    "|student_id | school_id | grade_level | date_of_birth | hometown |\n",
    "|-----------|-----------|-------------|---------------|----------|\n",
    "\n",
    "Using this data, you could answer questions like the following:\n",
    "\n",
    "* What percent of students attend school on their birthday?\n",
    "* Which grade level had the largest drop in attendance between yesterday and today?"
   ]
  },
  {
   "cell_type": "code",
   "execution_count": null,
   "metadata": {
    "collapsed": true
   },
   "outputs": [],
   "source": [
    "import pandas as pd\n",
    "\n",
    "# Functions used to generate mock data simulating the tables given above.\n",
    "\n",
    "def build_attendance_events():\n",
    "    columns = ['date', 'student_id', 'attendance']\n",
    "    dates = "
   ]
  },
  {
   "cell_type": "markdown",
   "metadata": {},
   "source": [
    "#### Related Notes:\n",
    "* [Pandas Dates & Times](#pandas-dates)"
   ]
  },
  {
   "cell_type": "code",
   "execution_count": null,
   "metadata": {
    "collapsed": true
   },
   "outputs": [],
   "source": []
  }
 ],
 "metadata": {
  "kernelspec": {
   "display_name": "interview_prep",
   "language": "python",
   "name": "interview_prep"
  },
  "language_info": {
   "codemirror_mode": {
    "name": "ipython",
    "version": 3
   },
   "file_extension": ".py",
   "mimetype": "text/x-python",
   "name": "python",
   "nbconvert_exporter": "python",
   "pygments_lexer": "ipython3",
   "version": "3.5.2"
  }
 },
 "nbformat": 4,
 "nbformat_minor": 2
}
