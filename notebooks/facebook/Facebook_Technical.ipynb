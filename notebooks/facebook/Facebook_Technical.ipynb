{
 "cells": [
  {
   "cell_type": "markdown",
   "metadata": {},
   "source": [
    "# Preparation for Facebook Technical Questions"
   ]
  },
  {
   "cell_type": "markdown",
   "metadata": {},
   "source": [
    "Here are my notes for preparing for the technical portion of the interview. To simulate interview conditions, I wrote all code in markdown mode only converting the cells to executable after I felt comfortable they were correct."
   ]
  },
  {
   "cell_type": "markdown",
   "metadata": {},
   "source": [
    "## Notes"
   ]
  },
  {
   "cell_type": "markdown",
   "metadata": {},
   "source": [
    "<a id='pandas-dates'></a> [**Pandas - Time Series / Date Functionality**](http://pandas.pydata.org/pandas-docs/version/0.23/timeseries.html)"
   ]
  },
  {
   "cell_type": "markdown",
   "metadata": {},
   "source": [
    "* Uses the numpy ```datetime64``` and ```timedelta64``` datatypes"
   ]
  },
  {
   "cell_type": "markdown",
   "metadata": {},
   "source": [
    "<table border=\"1\" class=\"docutils\">\n",
    "<colgroup>\n",
    "<col width=\"15%\">\n",
    "<col width=\"27%\">\n",
    "<col width=\"58%\">\n",
    "</colgroup>\n",
    "\n",
    "<thead valign=\"bottom\">\n",
    "<tr class=\"row-odd\"><th class=\"head\">Class</th>\n",
    "<th class=\"head\">Remarks</th>\n",
    "<th class=\"head\">How to create</th>\n",
    "</tr>\n",
    "</thead><tbody valign=\"top\">\n",
    "<tr class=\"row-even\"><td><code class=\"docutils literal notranslate\"><span class=\"pre\">Timestamp</span></code></td>\n",
    "<td>Represents a single timestamp</td>\n",
    "<td><code class=\"docutils literal notranslate\"><span class=\"pre\">to_datetime</span></code>, <code class=\"docutils literal notranslate\"><span class=\"pre\">Timestamp</span></code></td>\n",
    "</tr>\n",
    "<tr class=\"row-odd\"><td><code class=\"docutils literal notranslate\"><span class=\"pre\">DatetimeIndex</span></code></td>\n",
    "<td>Index of <code class=\"docutils literal notranslate\"><span class=\"pre\">Timestamp</span></code></td>\n",
    "<td><code class=\"docutils literal notranslate\"><span class=\"pre\">to_datetime</span></code>, <code class=\"docutils literal notranslate\"><span class=\"pre\">date_range</span></code>, <code class=\"docutils literal notranslate\"><span class=\"pre\">bdate_range</span></code>, <code class=\"docutils literal notranslate\"><span class=\"pre\">DatetimeIndex</span></code></td>\n",
    "</tr>\n",
    "<tr class=\"row-even\"><td><code class=\"docutils literal notranslate\"><span class=\"pre\">Period</span></code></td>\n",
    "<td>Represents a single time span</td>\n",
    "<td><code class=\"docutils literal notranslate\"><span class=\"pre\">Period</span></code></td>\n",
    "</tr>\n",
    "<tr class=\"row-odd\"><td><code class=\"docutils literal notranslate\"><span class=\"pre\">PeriodIndex</span></code></td>\n",
    "<td>Index of <code class=\"docutils literal notranslate\"><span class=\"pre\">Period</span></code></td>\n",
    "<td><code class=\"docutils literal notranslate\"><span class=\"pre\">period_range</span></code>, <code class=\"docutils literal notranslate\"><span class=\"pre\">PeriodIndex</span></code></td>\n",
    "</tr>\n",
    "</tbody>\n",
    "</table>"
   ]
  },
  {
   "cell_type": "markdown",
   "metadata": {},
   "source": [
    "* Both ```Timestamp``` and  ```Period``` objects can serve as an index. They are automatically cast into ```DatetimeIndex``` and ```PeriodIndex``` objects."
   ]
  },
  {
   "cell_type": "code",
   "execution_count": 1,
   "metadata": {},
   "outputs": [
    {
     "name": "stderr",
     "output_type": "stream",
     "text": [
      "/home/casey/coding_interview/interview_venv/lib/python3.5/importlib/_bootstrap.py:222: RuntimeWarning: numpy.dtype size changed, may indicate binary incompatibility. Expected 96, got 88\n",
      "  return f(*args, **kwds)\n"
     ]
    },
    {
     "data": {
      "text/plain": [
       "0   2009-07-31\n",
       "1   2010-01-10\n",
       "2          NaT\n",
       "dtype: datetime64[ns]"
      ]
     },
     "execution_count": 1,
     "metadata": {},
     "output_type": "execute_result"
    }
   ],
   "source": [
    "import pandas as pd\n",
    "# Can convert from strings to date-like objects via pd.to_datetime\n",
    "pd.to_datetime(pd.Series(['Jul 31, 2009', '2010-01-10', None]))"
   ]
  },
  {
   "cell_type": "code",
   "execution_count": 2,
   "metadata": {},
   "outputs": [
    {
     "data": {
      "text/plain": [
       "DatetimeIndex(['2010-02-20', '2010-02-21', '2010-02-22', '2010-02-23',\n",
       "               '2010-02-24', '2010-02-25', '2010-02-26', '2010-02-27',\n",
       "               '2010-02-28', '2010-03-01',\n",
       "               ...\n",
       "               '2011-02-24', '2011-02-25', '2011-02-26', '2011-02-27',\n",
       "               '2011-02-28', '2011-03-01', '2011-03-02', '2011-03-03',\n",
       "               '2011-03-04', '2011-03-05'],\n",
       "              dtype='datetime64[ns]', length=379, freq='D')"
      ]
     },
     "execution_count": 2,
     "metadata": {},
     "output_type": "execute_result"
    }
   ],
   "source": [
    "# Make range of dates:\n",
    "pd.date_range('2010-02-20', '2011-03-05')"
   ]
  },
  {
   "cell_type": "markdown",
   "metadata": {},
   "source": [
    "## Exercises"
   ]
  },
  {
   "cell_type": "markdown",
   "metadata": {},
   "source": [
    "### Mock Question from E-mail"
   ]
  },
  {
   "cell_type": "markdown",
   "metadata": {},
   "source": [
    "An attendance log for every student in a school district ```attendance_events```:\n",
    "\n",
    "| date | student_id | attendance |\n",
    "|:----:|:----------:|:----------:|\n",
    "|      |            |            |\n",
    "\n",
    "A summary table with demographics for each student in the district ```all_students```: \n",
    "\n",
    "|student_id | school_id | grade_level | date_of_birth | hometown |\n",
    "|-----------|-----------|-------------|---------------|----------|\n",
    "\n",
    "Using this data, you could answer questions like the following:\n",
    "\n",
    "* What percent of students attend school on their birthday?\n",
    "* Which grade level had the largest drop in attendance between yesterday and today?"
   ]
  },
  {
   "cell_type": "code",
   "execution_count": 6,
   "metadata": {},
   "outputs": [],
   "source": [
    "import pandas as pd\n",
    "import numpy as np\n",
    "\n",
    "# Functions used to generate mock data simulating the tables given above.\n",
    "\n",
    "n_students = 1000\n",
    "n_days = 10\n",
    "start_date = '2017-09-01'\n",
    "end_date = '2018-06-15'\n",
    "\n",
    "################################################################################\n",
    "# Attendance Table                                                             #\n",
    "################################################################################\n",
    "def _make_event_dates(n_students, start_date, end_date):\n",
    "    dr = pd.date_range(start_date, end_date)\n",
    "    dates = []\n",
    "    for day in dr:\n",
    "        dates.extend([day] * n_students)\n",
    "    return dates\n",
    "\n",
    "def _make_student_ids(n_students, n_days=None):\n",
    "    student_ids = [xx for xx in range(100, 100 + n_students)]\n",
    "    if n_days is not None:\n",
    "        student_ids = student_ids * n_days\n",
    "    return student_ids\n",
    "\n",
    "def _make_attendance(n_students, n_days):\n",
    "    return list(np.random.choice(2, n_students, p=[0.3, 0.7])) * n_days\n",
    "\n",
    "def build_attendance_events(n_students, start_date, end_date):\n",
    "    columns = ['date', 'student_id', 'attendance']\n",
    "    n_days = len(pd.date_range(start_date, end_date))\n",
    "    \n",
    "    dates       = _make_event_dates(n_students, start_date, end_date)\n",
    "    student_ids = _make_student_ids(n_students, n_days)\n",
    "    attendance  = _make_attendance(n_students, n_days)\n",
    "    data = [xx for xx in zip(dates, student_ids, attendance)]\n",
    "    \n",
    "    df = pd.DataFrame(data=data, columns=columns)\n",
    "    return df\n",
    "\n",
    "################################################################################\n",
    "# District All Students Table                                                  #\n",
    "################################################################################\n",
    "def _make_school_ids(n_students):\n",
    "    schools = ['South River High School',\n",
    "               'New Brunswick High School',\n",
    "               'East Brunswick High School',\n",
    "               'Edison High School']\n",
    "    return list(np.random.choice(schools, n_students))\n",
    "\n",
    "def _make_grade_levels(n_students):\n",
    "    grades = ['Freshman', 'Sophomore', 'Junior', 'Senior']\n",
    "    return list(np.random.choice(grades, n_students))\n",
    "    \n",
    "def _make_DOBs(grade_levels):\n",
    "    birth_years = {\n",
    "        'Freshman': 2005,\n",
    "        'Sophomore': 2004,\n",
    "        'Junior': 2003,\n",
    "        'Senior': 2002\n",
    "    }\n",
    "    years = [birth_years[xx] for xx in grade_levels]\n",
    "    months = list(np.random.choice(np.arange(1,13), len(grade_levels)))\n",
    "    days = list(np.random.choice(np.arange(1,29), len(grade_levels)))\n",
    "    DOBs = pd.to_datetime(['{}-{}-{}'.format(*dd) for dd in zip(months, days, years)])\n",
    "    return DOBs\n",
    "\n",
    "def _make_hometowns(school_ids):\n",
    "    hometowns = [school.split('High School')[0].strip() for school in school_ids]\n",
    "    return hometowns\n",
    "    \n",
    "\n",
    "def build_all_students(n_students):\n",
    "    student_ids  = _make_student_ids(n_students)\n",
    "    school_ids   = _make_school_ids(n_students)\n",
    "    grade_levels = _make_grade_levels(n_students)\n",
    "    DOBs         = _make_DOBs(grade_levels)\n",
    "    hometowns    = _make_hometowns(school_ids)\n",
    "    \n",
    "    columns = ['student_id', 'school_id', 'grade_level', 'date_of_birth', 'hometown']\n",
    "    data = [xx for xx in zip(student_ids, school_ids, grade_levels, DOBs, hometowns)]\n",
    "    df = pd.DataFrame(data=data, columns=columns)\n",
    "    return df\n",
    "    \n",
    "\n",
    "attendance_events = build_attendance_events(n_students, start_date, end_date)\n",
    "all_students = build_all_students(n_students=n_students)"
   ]
  }
 ],
 "metadata": {
  "kernelspec": {
   "display_name": "interview_prep",
   "language": "python",
   "name": "interview_prep"
  },
  "language_info": {
   "codemirror_mode": {
    "name": "ipython",
    "version": 3
   },
   "file_extension": ".py",
   "mimetype": "text/x-python",
   "name": "python",
   "nbconvert_exporter": "python",
   "pygments_lexer": "ipython3",
   "version": "3.5.2"
  }
 },
 "nbformat": 4,
 "nbformat_minor": 2
}
