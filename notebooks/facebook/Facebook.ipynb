{
 "cells": [
  {
   "cell_type": "markdown",
   "metadata": {},
   "source": [
    "# Facebook Prep"
   ]
  },
  {
   "cell_type": "markdown",
   "metadata": {},
   "source": [
    "This notebook is a loose collection of notes used for preparation for a technical interview with Facebook for a Data Scientist position."
   ]
  },
  {
   "cell_type": "markdown",
   "metadata": {},
   "source": [
    "## Prep E-Mail"
   ]
  },
  {
   "cell_type": "markdown",
   "metadata": {},
   "source": [
    "**OVERVIEW OF THE INITIAL INTERVIEW, SAMPLE QUESTIONS, ADDITIONAL RESOURCES FOR PREPARING**\n",
    "\n",
    "The interview will be 2 parts (for a total of 30-45 minutes):\n",
    "1 – Analytical (10-20 minutes)\n",
    "1 – Technical (10-20 minutes)\n",
    "\n",
    "**Analytical Portion (10-20 minutes)** Per our conversation, the analytical case study will focus on questions to gauge your **product sense**. For the analytical questions, the interviewer is trying to understand how you solve business questions and problems, as well as how creative and articulate you are at thinking through these problems while solving them. It’s not about arriving at the perfect or correct answer, but how you engage with the problem. Spend some time engaging with Facebook products less as a user and more as someone who is tasked with improving or developing these products. [This link](http://l.facebook.com/l.php?u=http%3A%2F%2Fnewsroom.fb.com%2FProducts&h=AT3bJIG6przmDbsvmqrHIoRhShriTQDgIVEhbNOusNirb9bg3ZqGvd3hrtqGfe7P34bwQ-KHN8IGStoJktZdpx9XdHGBfuVGa0w9gBR9IY2VYYw46rQX0Ikf7hTKOz1FqBATP4BrarP8et11YVh58SDjarE) outlines what we consider a “Facebook product” (Ads, Mobile, Timeline, News Feed, Messaging, etc.). Note: It is not a complete list, and the analysis case may or may not refer to one of the products listed.Resources: [Facebook News](http://l.facebook.com/l.php?u=http%3A%2F%2Fnewsroom.fb.com%2Fnews%2F&h=AT16y_Di3IBz8xg6Q76kenqnwHFuXEDR6GJUAylZJRSb2Si29RuFEQne8EnFtfyhqH7kUwaSZyb1hc3EHcJIxeZh86L22-Ek2ZV899usg2MiOxbtmI_33m5EaaZdgwyWScHnEnqpPd2WSw) [VP of Analytics Alex Schultz's Talk at Stanford on Growth at Facebook](https://l.facebook.com/l.php?u=https%3A%2F%2Fwww.youtube.com%2Fwatch%3Fv%3DURiIsrdplbo&h=AT1ZdC7rQLZMIXBj2E696SE1lQKiZjhpWyex_bREfp9rZ6UlvgXMfv48QBrbAAS2Glt2HzGrEpgfXfvm-j-Kx0zpLbJcK8IdOytugysBW38y58tujM34kUu8LmOf1t0gLjtK-Pig1jKEHg) (2017) [How Facebook used Science and Empathy to Reach two Billion users](https://l.facebook.com/l.php?u=https%3A%2F%2Furldefense.proofpoint.com%2Fv2%2Furl%3Fu%3Dhttp-3A__bit.ly_2t9J7qP%26d%3DDwMFaQ%26c%3D5VD0RTtNlTh3ycd41b3MUw%26r%3DVuIhsUQqGkQOFMpV-O1nMlP-zZT-GJAkOcv4zGz7EkE%26m%3D_vb2egdafZIi0qp4hy0JWXCDa0ubPpy2kV_25A7VJRA%26s%3DMNmk_Kg8PQR2eFYxwJxZdB2CI25NZlS8sl0zdQ_gUu4%26e&h=AT0ZGZT1wq_4m60X26b8sMO0I794_nXkBQgy9eH7a5R65cWxP-fU04ijUieoGuywvavpJE6pw0fXf6F48nQYm-m_2W3TruKHDyLhtPhh8JjmcdKNLWFYQ3Yu88bmy9-zsceWGBIKIK4vTQ) [Recent post from Mark Zuckerberg](https://www.facebook.com/zuck/posts/10104501954164561).Put yourself in the shoes of the product team who built the product / feature\n",
    "\n",
    "* Why do you think they made certain decisions about how it works?\n",
    "* What could be done to improve the product?\n",
    "* What kind of metrics you'd want to consider when solving for questions around health, growth, or the engagement of a product?\n",
    "* How would you measure the success of different parts of the product?\n",
    "* What metrics would you assess when trying to solve business problems related to our products?\n",
    "* How would you tell if a product is performing well or not?\n",
    "* How would you set up an experiment to evaluate any new products or improvements?\n",
    "\n",
    "**Technical Portion (10-20 minutes)**You will be given 1-2 data processing questions during this portion. We are looking not only for coding skills, but also for the ability to translate a high-level question into an execution strategy and explain how the result is relevant and what aspects may still be lacking.\n",
    "\n",
    "**Mock Data and Questions:**This example doesn't pertain to Facebook but is representative of the data and questions you may see:An attendance log for every student in a school district attendance_events : date | student_id | attendance A summary table with demographics for each student in the district all_students : student_id | school_id | grade_level | date_of_birth | hometownUsing this data, you could answer questions like the following:\n",
    "\n",
    "* What percent of students attend school on their birthday?\n",
    "* Which grade level had the largest drop in attendance between yesterday and today?\n",
    "\n",
    "**Core skills** Regardless of your language, you should be familiar with ALL of the following skills\n",
    "\n",
    "* Work with grouping and aggregate functions\n",
    "* Utilize different types of joins (left, inner, outer, etc.) including when and how to use a self-join\n",
    "* Append multiple data sources (union in SQL, concat in Pandas, bind_rows in R)\n",
    "* Filter data by multiple, complex conditions\n",
    "* De-duplication, sorting, handling missing/incomplete data\n",
    "* Assess efficiency. This will not be a primary focus, but you may be asked to think of more efficient ideas or to explain why you are making certain efficiency/simplicity tradeoffs\n",
    "\n",
    "\n",
    "**Using SQL:**\n",
    "\n",
    "* You may work in whatever dialect you like, but all questions will be answerable with ANSI-standard functions (think PostgreSQL). If you use a dialect-specific syntax, you may need to explain it to your interviewer\n",
    "* Try to maintain a consistent capitalization/indentation style for readability\n",
    "\n",
    "**Using Python or R:**\n",
    "\n",
    "* Given the heavy focus on data manipulation, most candidates choose to use libraries such as Pandas/Numpy in Python or dplyr in R. It is possible to solve the questions in pure Python/R (or any Turing-complete language!) but doing so will likely be much slower and more difficult.\n",
    "* The interview will either be on a whiteboard or in a plain text environment, so there will be no access to function autocomplete or help documentation.\n",
    "* A few small mistakes in syntax will not automatically disqualify you, but pseudocode or a general explanation is not acceptable. Be sure that you know the function names, input arguments, etc. to implement the core skills listed above.\n",
    "* Interviewers generally know the most widely used libraries, but there's no guarantee that any individual interviewer will be familiar with the libraries you're mentioning. That's okay but you may have to provide more guidance / context around what you're writing.\n",
    "* If you do not have much experience performing joins and aggregations, you may wish to review that functionality for Python or R\n",
    "\n",
    "**Using another language:**\n",
    "\n",
    "* Most candidates work in SQL, Python or R, but we may be able to accommodate other languages. If you want to work in another language, discuss ahead of time with your recruiter.\n",
    "* As mentioned above, you may choose a language or approach without built-in support for advanced data manipulation/aggregation, for instance pure Python, Java or C++. But you will still be expected to complete the same questions, so time may be more of a factor.\n",
    "\n",
    "*Resources*: [SQL Course Programmer Interview SQL Practice Database](https://l.facebook.com/l.php?u=https%3A%2F%2Furldefense.proofpoint.com%2Fv2%2Furl%3Fu%3Dhttp-3A__www.sqlcourse2.com_%26d%3DDwMFaQ%26c%3D5VD0RTtNlTh3ycd41b3MUw%26r%3DVuIhsUQqGkQOFMpV-O1nMlP-zZT-GJAkOcv4zGz7EkE%26m%3D_vb2egdafZIi0qp4hy0JWXCDa0ubPpy2kV_25A7VJRA%26s%3DNhs8Aze0rj4ij8uuzFjJNUdGH7bq-6IxjulMEqu36kI%26e&h=AT3QiZHcshIQyChGl9JpBvPgcYfaCW3QvZ6dJ3VMi8W7LV1ulzecfpEgIlVEEsKGUwz3JLN3lm2QAjhdv0I2wMcyT8tQj5D_dGg_FNUHjMgdUUCtEpxzF-MppLedYGmZC5LbTNBPgwDl2g) [Mode Analytics SQL Tutorials](https://l.facebook.com/l.php?u=https%3A%2F%2Furldefense.proofpoint.com%2Fv2%2Furl%3Fu%3Dhttps-3A__community.modeanalytics.com_sql_tutorial_introduction-2Dto-2Dsql_%26d%3DDwMFaQ%26c%3D5VD0RTtNlTh3ycd41b3MUw%26r%3DVuIhsUQqGkQOFMpV-O1nMlP-zZT-GJAkOcv4zGz7EkE%26m%3D_vb2egdafZIi0qp4hy0JWXCDa0ubPpy2kV_25A7VJRA%26s%3DnjLCHPvMefrGlpZAw6BzWtSlnpY5DNiqgjmv36Y5vbg%26e&h=AT0iJQvQiEgAns8qO51X1E8u5GhAQLR6k4WYIsfNcvFTkNzwCa2YTGqK6bPChndeb4Ts6tqSBlFF0nIxDE0tLHT2i8L8tc1yy2cdxa2x6fqSPbFrLsCN6sWyz7FVPzlIm44YPAwxnQi56Q)\n",
    "\n",
    "**General tips for the interview:**\n",
    "\n",
    "* During the video conference interview, you will need access to a computer. You will log in to [www.coderpad.io](https://l.facebook.com/l.php?u=https%3A%2F%2Furldefense.proofpoint.com%2Fv2%2Furl%3Fu%3Dhttp-3A__www.coderpad.io%26d%3DDwMFaQ%26c%3D5VD0RTtNlTh3ycd41b3MUw%26r%3DVuIhsUQqGkQOFMpV-O1nMlP-zZT-GJAkOcv4zGz7EkE%26m%3D_vb2egdafZIi0qp4hy0JWXCDa0ubPpy2kV_25A7VJRA%26s%3D3QFmPaD5-R23Ssan8qkyVWLHnU8ib0eKG5YHmsKRa84%26e&h=AT1iqxbu2dk58Zdmxjs4Fn5UfAqKyRXDiSWNj_6XRHrfe5hXHO80qEx7dM1D4mN0XwY32O0yK73OCgyrS_bGL5MFB0H1uKioqTd3RTEcHT3wrIsURD6MiMNYOQBXWP45SL7uejd-vcVfAg) - basically like a chat room - so the person on the other side can look at your code. Please be logged in using the link provided at the interview start time. You will receive additional details, including the link, when the interview is confirmed.\n",
    "* As mentioned above, it is better to delay your interview than proceed before you are ready. There is no penalty for taking a few extra weeks (or longer) to prepare.\n",
    "* It's important that you think out loud/ provide a narrative as you go through the problem so the interviewer has insight into your thought process.\n",
    "* The interviewer will prompt you if you are heading in the wrong direction. Your ability to pivot your answer is a positive signal.\n",
    "* Feel free to ask clarifying questions during the interview.\n",
    "\n",
    "**Additional notes:**\n",
    "\n",
    "* While we recognize that candidates may utilize outside sites/resources with posted interview questions and answers, we encourage caution, as we've found many of the proposed solutions to be incorrect.\n",
    "* Your interview confirmation email will contain the names of all your interviewers (this is subject to change). However, just because an interviewer works on Messenger (for example) does not mean they will ask you questions about Messenger.\n",
    "* During the interview, the interviewer may take notes on their phone or computer. Please do not take this as a sign their attention is elsewhere. They are fully committed to you!\n",
    "* Be prepared to answer why you are interested in Facebook. The interviewers like to see people who know about our environment, projects, challenges, etc.\n",
    "* If there is time at the end of the interview, feel free to ask questions about Facebook and analytics.\n",
    "* After the initial interview, I will give you an update regarding next steps as soon as possible. Unfortunately, I will not be able to share direct feedback from your interviews.\n"
   ]
  },
  {
   "cell_type": "code",
   "execution_count": null,
   "metadata": {
    "collapsed": true
   },
   "outputs": [],
   "source": []
  }
 ],
 "metadata": {
  "kernelspec": {
   "display_name": "interview_prep",
   "language": "python",
   "name": "interview_prep"
  },
  "language_info": {
   "codemirror_mode": {
    "name": "ipython",
    "version": 3
   },
   "file_extension": ".py",
   "mimetype": "text/x-python",
   "name": "python",
   "nbconvert_exporter": "python",
   "pygments_lexer": "ipython3",
   "version": "3.5.2"
  }
 },
 "nbformat": 4,
 "nbformat_minor": 2
}
