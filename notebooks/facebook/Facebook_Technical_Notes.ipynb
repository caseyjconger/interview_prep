{
 "cells": [
  {
   "cell_type": "markdown",
   "metadata": {},
   "source": [
    "# Preparation for Facebook Technical Interview"
   ]
  },
  {
   "cell_type": "markdown",
   "metadata": {},
   "source": [
    "Here are my notes for preparing for the technical portion of the interview. To simulate interview conditions, I wrote all code in markdown mode only converting the cells to executable after I felt comfortable they were correct."
   ]
  },
  {
   "cell_type": "markdown",
   "metadata": {},
   "source": [
    "## Notes <a id='notes'></a>"
   ]
  },
  {
   "cell_type": "markdown",
   "metadata": {},
   "source": [
    "[Pandas - Dates and Times](#pandas-dates)\n",
    "\n",
    "[Pandas - Merge, Join, Concatenate](#pandas-join)"
   ]
  },
  {
   "cell_type": "markdown",
   "metadata": {},
   "source": [
    "## [**Pandas - Time Series / Date Functionality**](http://pandas.pydata.org/pandas-docs/version/0.23/timeseries.html) <a id='pandas-dates'></a> "
   ]
  },
  {
   "cell_type": "markdown",
   "metadata": {},
   "source": [
    "* Uses the numpy ```datetime64``` and ```timedelta64``` datatypes"
   ]
  },
  {
   "cell_type": "markdown",
   "metadata": {},
   "source": [
    "<table border=\"1\" class=\"docutils\">\n",
    "<colgroup>\n",
    "<col width=\"15%\">\n",
    "<col width=\"27%\">\n",
    "<col width=\"58%\">\n",
    "</colgroup>\n",
    "\n",
    "<thead valign=\"bottom\">\n",
    "<tr class=\"row-odd\"><th class=\"head\">Class</th>\n",
    "<th class=\"head\">Remarks</th>\n",
    "<th class=\"head\">How to create</th>\n",
    "</tr>\n",
    "</thead><tbody valign=\"top\">\n",
    "<tr class=\"row-even\"><td><code class=\"docutils literal notranslate\"><span class=\"pre\">Timestamp</span></code></td>\n",
    "<td>Represents a single timestamp</td>\n",
    "<td><code class=\"docutils literal notranslate\"><span class=\"pre\">to_datetime</span></code>, <code class=\"docutils literal notranslate\"><span class=\"pre\">Timestamp</span></code></td>\n",
    "</tr>\n",
    "<tr class=\"row-odd\"><td><code class=\"docutils literal notranslate\"><span class=\"pre\">DatetimeIndex</span></code></td>\n",
    "<td>Index of <code class=\"docutils literal notranslate\"><span class=\"pre\">Timestamp</span></code></td>\n",
    "<td><code class=\"docutils literal notranslate\"><span class=\"pre\">to_datetime</span></code>, <code class=\"docutils literal notranslate\"><span class=\"pre\">date_range</span></code>, <code class=\"docutils literal notranslate\"><span class=\"pre\">bdate_range</span></code>, <code class=\"docutils literal notranslate\"><span class=\"pre\">DatetimeIndex</span></code></td>\n",
    "</tr>\n",
    "<tr class=\"row-even\"><td><code class=\"docutils literal notranslate\"><span class=\"pre\">Period</span></code></td>\n",
    "<td>Represents a single time span</td>\n",
    "<td><code class=\"docutils literal notranslate\"><span class=\"pre\">Period</span></code></td>\n",
    "</tr>\n",
    "<tr class=\"row-odd\"><td><code class=\"docutils literal notranslate\"><span class=\"pre\">PeriodIndex</span></code></td>\n",
    "<td>Index of <code class=\"docutils literal notranslate\"><span class=\"pre\">Period</span></code></td>\n",
    "<td><code class=\"docutils literal notranslate\"><span class=\"pre\">period_range</span></code>, <code class=\"docutils literal notranslate\"><span class=\"pre\">PeriodIndex</span></code></td>\n",
    "</tr>\n",
    "</tbody>\n",
    "</table>"
   ]
  },
  {
   "cell_type": "markdown",
   "metadata": {},
   "source": [
    "* Both ```Timestamp``` and  ```Period``` objects can serve as an index. They are automatically cast into ```DatetimeIndex``` and ```PeriodIndex``` objects."
   ]
  },
  {
   "cell_type": "code",
   "execution_count": 1,
   "metadata": {},
   "outputs": [
    {
     "name": "stderr",
     "output_type": "stream",
     "text": [
      "/home/casey/coding_interview/interview_venv/lib/python3.5/importlib/_bootstrap.py:222: RuntimeWarning: numpy.dtype size changed, may indicate binary incompatibility. Expected 96, got 88\n",
      "  return f(*args, **kwds)\n",
      "/home/casey/coding_interview/interview_venv/lib/python3.5/importlib/_bootstrap.py:222: RuntimeWarning: numpy.dtype size changed, may indicate binary incompatibility. Expected 96, got 88\n",
      "  return f(*args, **kwds)\n"
     ]
    },
    {
     "data": {
      "text/plain": [
       "0   2009-07-31\n",
       "1   2010-01-10\n",
       "2          NaT\n",
       "dtype: datetime64[ns]"
      ]
     },
     "execution_count": 1,
     "metadata": {},
     "output_type": "execute_result"
    }
   ],
   "source": [
    "import pandas as pd\n",
    "# Can convert from strings to date-like objects via pd.to_datetime\n",
    "pd.to_datetime(pd.Series(['Jul 31, 2009', '2010-01-10', None]))"
   ]
  },
  {
   "cell_type": "code",
   "execution_count": 2,
   "metadata": {},
   "outputs": [
    {
     "data": {
      "text/plain": [
       "DatetimeIndex(['2010-02-20', '2010-02-21', '2010-02-22', '2010-02-23',\n",
       "               '2010-02-24', '2010-02-25', '2010-02-26', '2010-02-27',\n",
       "               '2010-02-28', '2010-03-01',\n",
       "               ...\n",
       "               '2011-02-24', '2011-02-25', '2011-02-26', '2011-02-27',\n",
       "               '2011-02-28', '2011-03-01', '2011-03-02', '2011-03-03',\n",
       "               '2011-03-04', '2011-03-05'],\n",
       "              dtype='datetime64[ns]', length=379, freq='D')"
      ]
     },
     "execution_count": 2,
     "metadata": {},
     "output_type": "execute_result"
    }
   ],
   "source": [
    "# Make range of dates:\n",
    "pd.date_range('2010-02-20', '2011-03-05')"
   ]
  },
  {
   "cell_type": "markdown",
   "metadata": {},
   "source": [
    "## [**Pandas - Merge, Join, Concatenate**](https://pandas.pydata.org/pandas-docs/stable/merging.html) <a id='pandas-join'></a> "
   ]
  },
  {
   "cell_type": "markdown",
   "metadata": {},
   "source": [
    "**Difference between '```append```, ```concat```, ```merge```, and ```join```**\n",
    "\n",
    "**```append```**\n",
    "* Solely for appending rows to a dataframe, but it is typically slow and seldomly used in favor of concat.\n",
    "* Exists as a dataframe method (i.e. is called via df.append )\n",
    "\n",
    "**```concat```**\n",
    "* For stacking dataframes vertically or horizontally.\n",
    "* Exists in the pandas namespace (i.e. is called via pd.concat)\n",
    "\n",
    "**```merge```**\n",
    "* For performing relational database style stitching\n",
    "\n",
    "**```join```**\n",
    "* A shortcut for merging on indices as opposed to merge which allows you to join along arbitrary columns.\n"
   ]
  },
  {
   "cell_type": "markdown",
   "metadata": {},
   "source": [
    "<table border=\"1\" class=\"colwidths-given docutils\">\n",
    "<colgroup>\n",
    "<col width=\"20%\">\n",
    "<col width=\"20%\">\n",
    "<col width=\"60%\">\n",
    "</colgroup>\n",
    "<thead valign=\"bottom\">\n",
    "<tr class=\"row-odd\"><th class=\"head\">Merge method</th>\n",
    "<th class=\"head\">SQL Join Name</th>\n",
    "<th class=\"head\">Description</th>\n",
    "</tr>\n",
    "</thead>\n",
    "<tbody valign=\"top\">\n",
    "<tr class=\"row-even\"><td><code class=\"docutils literal notranslate\"><span class=\"pre\">left</span></code></td>\n",
    "<td><code class=\"docutils literal notranslate\"><span class=\"pre\">LEFT</span> <span class=\"pre\">OUTER</span> <span class=\"pre\">JOIN</span></code></td>\n",
    "<td>Use keys from left frame only</td>\n",
    "</tr>\n",
    "<tr class=\"row-odd\"><td><code class=\"docutils literal notranslate\"><span class=\"pre\">right</span></code></td>\n",
    "<td><code class=\"docutils literal notranslate\"><span class=\"pre\">RIGHT</span> <span class=\"pre\">OUTER</span> <span class=\"pre\">JOIN</span></code></td>\n",
    "<td>Use keys from right frame only</td>\n",
    "</tr>\n",
    "<tr class=\"row-even\"><td><code class=\"docutils literal notranslate\"><span class=\"pre\">outer</span></code></td>\n",
    "<td><code class=\"docutils literal notranslate\"><span class=\"pre\">FULL</span> <span class=\"pre\">OUTER</span> <span class=\"pre\">JOIN</span></code></td>\n",
    "<td>Use union of keys from both frames</td>\n",
    "</tr>\n",
    "<tr class=\"row-odd\"><td><code class=\"docutils literal notranslate\"><span class=\"pre\">inner</span></code></td>\n",
    "<td><code class=\"docutils literal notranslate\"><span class=\"pre\">INNER</span> <span class=\"pre\">JOIN</span></code></td>\n",
    "<td>Use intersection of keys from both frames</td>\n",
    "</tr>\n",
    "</tbody>\n",
    "</table>"
   ]
  },
  {
   "cell_type": "code",
   "execution_count": 3,
   "metadata": {},
   "outputs": [],
   "source": [
    "# Define example dataframes and series\n",
    "df1 = pd.DataFrame({'A': ['A0', 'A1', 'A2', 'A3'],\n",
    "                    'B': ['B0', 'B1', 'B2', 'B3'],\n",
    "                    'C': ['C0', 'C1', 'C2', 'C3'],\n",
    "                    'D': ['D0', 'D1', 'D2', 'D3']},\n",
    "                   index=[0, 1, 2, 3])\n",
    "\n",
    "df2 = pd.DataFrame({'A': ['A4', 'A5', 'A6', 'A7'],\n",
    "                    'B': ['B4', 'B5', 'B6', 'B7'],\n",
    "                    'C': ['C4', 'C5', 'C6', 'C7'],\n",
    "                    'D': ['D4', 'D5', 'D6', 'D7']},\n",
    "                   index=[4, 5, 6, 7])\n",
    " \n",
    "\n",
    "df3 = pd.DataFrame({'A': ['A8', 'A9', 'A10', 'A11'],\n",
    "                    'B': ['B8', 'B9', 'B10', 'B11'],\n",
    "                    'C': ['C8', 'C9', 'C10', 'C11'],\n",
    "                    'D': ['D8', 'D9', 'D10', 'D11']},\n",
    "                   index=[8, 9, 10, 11])\n",
    "s1 = pd.Series(['X0', 'X1', 'X2', 'X3'], name='X')\n",
    "\n",
    "s2 = pd.Series(['X0', 'X1', 'X2', 'X3'],\n",
    "               index=['A', 'B', 'C', 'D'])"
   ]
  },
  {
   "cell_type": "markdown",
   "metadata": {},
   "source": [
    "**Difference between '```append```, ```concat```, ```merge```, and ```join```**\n",
    "\n",
    "**```append```**\n",
    "* Solely for appending rows to a dataframe, but it is typically slow and seldomly used in favor of concat.\n",
    "* Exists as a dataframe method (i.e. is called via df.append )\n",
    "\n",
    "**```concat```**\n",
    "* For stacking dataframes vertically or horizontally.\n",
    "* Exists in the pandas namespace (i.e. is called via pd.concat)\n",
    "\n",
    "**```merge```**\n",
    "* For performing relational database style stitching\n",
    "\n",
    "**```join```**\n",
    "* A shortcut for merging on indices as opposed to merge which allows you to join along arbitrary columns.\n"
   ]
  },
  {
   "cell_type": "markdown",
   "metadata": {},
   "source": [
    "#### Append"
   ]
  },
  {
   "cell_type": "code",
   "execution_count": 4,
   "metadata": {
    "scrolled": true
   },
   "outputs": [
    {
     "name": "stdout",
     "output_type": "stream",
     "text": [
      "    A   B   C   D\n",
      "0  A0  B0  C0  D0\n",
      "1  A1  B1  C1  D1\n",
      "2  A2  B2  C2  D2\n",
      "3  A3  B3  C3  D3\n",
      "\n",
      "A    X0\n",
      "B    X1\n",
      "C    X2\n",
      "D    X3\n",
      "dtype: object\n",
      "\n",
      "    A   B   C   D\n",
      "0  A0  B0  C0  D0\n",
      "1  A1  B1  C1  D1\n",
      "2  A2  B2  C2  D2\n",
      "3  A3  B3  C3  D3\n",
      "4  X0  X1  X2  X3 \n"
     ]
    }
   ],
   "source": [
    "# Note that Series objects are more accurately thought of as row objects rather\n",
    "# than column objects as they are typically displayed\n",
    "\n",
    "result = df1.append(s2, ignore_index=True)\n",
    "print('{}\\n\\n{}\\n\\n{} '.format(df1, s2, result))"
   ]
  },
  {
   "cell_type": "markdown",
   "metadata": {},
   "source": [
    "### Concat"
   ]
  },
  {
   "cell_type": "code",
   "execution_count": 5,
   "metadata": {},
   "outputs": [
    {
     "name": "stdout",
     "output_type": "stream",
     "text": [
      "      A    B    C    D\n",
      "0    A0   B0   C0   D0\n",
      "1    A1   B1   C1   D1\n",
      "2    A2   B2   C2   D2\n",
      "3    A3   B3   C3   D3\n",
      "4    A4   B4   C4   D4\n",
      "5    A5   B5   C5   D5\n",
      "6    A6   B6   C6   D6\n",
      "7    A7   B7   C7   D7\n",
      "8    A8   B8   C8   D8\n",
      "9    A9   B9   C9   D9\n",
      "10  A10  B10  C10  D10\n",
      "11  A11  B11  C11  D11\n"
     ]
    }
   ],
   "source": [
    "################################################################################\n",
    "# Notes\n",
    "#\n",
    "# - Argument must be a list of DataFrames or Series, or a dict\n",
    "# - In this example all dataframes have the same columns and non-overlapping\n",
    "################################################################################\n",
    "result = pd.concat([df1, df2, df3])\n",
    "print(result)"
   ]
  },
  {
   "cell_type": "code",
   "execution_count": 6,
   "metadata": {
    "scrolled": true
   },
   "outputs": [
    {
     "name": "stdout",
     "output_type": "stream",
     "text": [
      "        A    B    C    D\n",
      "x 0    A0   B0   C0   D0\n",
      "  1    A1   B1   C1   D1\n",
      "  2    A2   B2   C2   D2\n",
      "  3    A3   B3   C3   D3\n",
      "y 4    A4   B4   C4   D4\n",
      "  5    A5   B5   C5   D5\n",
      "  6    A6   B6   C6   D6\n",
      "  7    A7   B7   C7   D7\n",
      "z 8    A8   B8   C8   D8\n",
      "  9    A9   B9   C9   D9\n",
      "  10  A10  B10  C10  D10\n",
      "  11  A11  B11  C11  D11\n"
     ]
    }
   ],
   "source": [
    "################################################################################\n",
    "# Notes\n",
    "#\n",
    "# - Can attach a distinguishing label for each constituent dataframe now we \n",
    "#     will have a multiindex\n",
    "# - Concat makes a full copy of the data\n",
    "################################################################################\n",
    "result = pd.concat([df1, df2, df3], keys=['x', 'y', 'z'])\n",
    "print(result)"
   ]
  },
  {
   "cell_type": "code",
   "execution_count": 7,
   "metadata": {
    "scrolled": true
   },
   "outputs": [
    {
     "name": "stdout",
     "output_type": "stream",
     "text": [
      "     A   B    C   D    F\n",
      "0   A0  B0   C0  D0  NaN\n",
      "1   A1  B1   C1  D1  NaN\n",
      "2   A2  B2   C2  D2  NaN\n",
      "3   A3  B3   C3  D3  NaN\n",
      "2  NaN  B2  NaN  D2   F2\n",
      "3  NaN  B3  NaN  D3   F3\n",
      "6  NaN  B6  NaN  D6   F6\n",
      "7  NaN  B7  NaN  D7   F7\n",
      "\n",
      "\n",
      "     A    B    C    D    B    D    F\n",
      "0   A0   B0   C0   D0  NaN  NaN  NaN\n",
      "1   A1   B1   C1   D1  NaN  NaN  NaN\n",
      "2   A2   B2   C2   D2   B2   D2   F2\n",
      "3   A3   B3   C3   D3   B3   D3   F3\n",
      "6  NaN  NaN  NaN  NaN   B6   D6   F6\n",
      "7  NaN  NaN  NaN  NaN   B7   D7   F7\n"
     ]
    },
    {
     "name": "stderr",
     "output_type": "stream",
     "text": [
      "/home/casey/coding_interview/interview_venv/lib/python3.5/site-packages/ipykernel_launcher.py:13: FutureWarning: Sorting because non-concatenation axis is not aligned. A future version\n",
      "of pandas will change to not sort by default.\n",
      "\n",
      "To accept the future behavior, pass 'sort=False'.\n",
      "\n",
      "To retain the current behavior and silence the warning, pass 'sort=True'.\n",
      "\n",
      "  del sys.path[0]\n"
     ]
    }
   ],
   "source": [
    "################################################################################\n",
    "# Notes\n",
    "#\n",
    "# - The default merge method is 'outer' meaning that it will use the union of \n",
    "#     all keys in both dataframes\n",
    "# - Note that with an outer join it fills all missing fields with nans\n",
    "################################################################################\n",
    "df4 = pd.DataFrame({'B': ['B2', 'B3', 'B6', 'B7'],\n",
    "                    'D': ['D2', 'D3', 'D6', 'D7'],\n",
    "                    'F': ['F2', 'F3', 'F6', 'F7']},\n",
    "                   index=[2, 3, 6, 7])\n",
    "# Concatenate along rows (i.e. vertical stacking)\n",
    "result = pd.concat([df1, df4], axis=0)\n",
    "print(result)\n",
    "print('\\n')\n",
    "# Concatenate along columns (i.e. horizontal stacking)\n",
    "result = pd.concat([df1, df4], axis=1)\n",
    "print(result)"
   ]
  },
  {
   "cell_type": "code",
   "execution_count": 8,
   "metadata": {},
   "outputs": [
    {
     "name": "stdout",
     "output_type": "stream",
     "text": [
      "    B   D\n",
      "0  B0  D0\n",
      "1  B1  D1\n",
      "2  B2  D2\n",
      "3  B3  D3\n",
      "2  B2  D2\n",
      "3  B3  D3\n",
      "6  B6  D6\n",
      "7  B7  D7\n",
      "\n",
      "\n",
      "    A   B   C   D   B   D   F\n",
      "2  A2  B2  C2  D2  B2  D2  F2\n",
      "3  A3  B3  C3  D3  B3  D3  F3\n",
      "\n",
      "\n",
      "    A   B   C   D    B    D    F\n",
      "0  A0  B0  C0  D0  NaN  NaN  NaN\n",
      "1  A1  B1  C1  D1  NaN  NaN  NaN\n",
      "2  A2  B2  C2  D2   B2   D2   F2\n",
      "3  A3  B3  C3  D3   B3   D3   F3\n",
      "\n",
      "\n",
      "    B   D   F    A    B    C    D\n",
      "2  B2  D2  F2   A2   B2   C2   D2\n",
      "3  B3  D3  F3   A3   B3   C3   D3\n",
      "6  B6  D6  F6  NaN  NaN  NaN  NaN\n",
      "7  B7  D7  F7  NaN  NaN  NaN  NaN\n",
      "\n",
      "\n"
     ]
    }
   ],
   "source": [
    "################################################################################\n",
    "# Notes - Inner Joins\n",
    "#\n",
    "# - A join of inner only returns the columns and rows that can be filled in\n",
    "#     completely, i.e. the intersection\n",
    "################################################################################\n",
    "df4 = pd.DataFrame({'B': ['B2', 'B3', 'B6', 'B7'],\n",
    "                    'D': ['D2', 'D3', 'D6', 'D7'],\n",
    "                    'F': ['F2', 'F3', 'F6', 'F7']},\n",
    "                   index=[2, 3, 6, 7])\n",
    "# Concatenate along rows (i.e. vertical stacking)\n",
    "# Drops columns A, C since the are not present in df4, it drops F not in df1\n",
    "result = pd.concat([df1, df4], join='inner', axis=0)\n",
    "print(result)\n",
    "print('\\n')\n",
    "\n",
    "# Concatenate along columns (i.e. horizontal stacking)\n",
    "# Drops rows 0, 1, not in df4 and 6, 7 not in df1\n",
    "result = pd.concat([df1, df4], join='inner', axis=1)\n",
    "print(result)\n",
    "print('\\n')\n",
    "\n",
    "# Concatenate along columns (i.e. horizontal stacking)\n",
    "# We can perform something between an inner and an outer join by specifying we\n",
    "# want to use only the keys from one but not the other (as opposed to an outer\n",
    "# join which uses the union)\n",
    "result = pd.concat([df1, df4], axis=1, join_axes=[df1.index])\n",
    "print(result)\n",
    "print('\\n')\n",
    "\n",
    "result = pd.concat([df4, df1], axis=1, join_axes=[df4.index])\n",
    "print(result)\n",
    "print('\\n')"
   ]
  },
  {
   "cell_type": "code",
   "execution_count": 9,
   "metadata": {},
   "outputs": [
    {
     "name": "stdout",
     "output_type": "stream",
     "text": [
      "     A   B    C   D    F\n",
      "0   A0  B0   C0  D0  NaN\n",
      "1   A1  B1   C1  D1  NaN\n",
      "2   A2  B2   C2  D2  NaN\n",
      "3   A3  B3   C3  D3  NaN\n",
      "4  NaN  B2  NaN  D2   F2\n",
      "5  NaN  B3  NaN  D3   F3\n",
      "6  NaN  B6  NaN  D6   F6\n",
      "7  NaN  B7  NaN  D7   F7\n",
      "\n",
      "\n",
      "     0    1    2    3    4    5    6\n",
      "0   A0   B0   C0   D0  NaN  NaN  NaN\n",
      "1   A1   B1   C1   D1  NaN  NaN  NaN\n",
      "2   A2   B2   C2   D2   B2   D2   F2\n",
      "3   A3   B3   C3   D3   B3   D3   F3\n",
      "6  NaN  NaN  NaN  NaN   B6   D6   F6\n",
      "7  NaN  NaN  NaN  NaN   B7   D7   F7\n",
      "\n",
      "\n"
     ]
    },
    {
     "name": "stderr",
     "output_type": "stream",
     "text": [
      "/home/casey/coding_interview/interview_venv/lib/python3.5/site-packages/ipykernel_launcher.py:12: FutureWarning: Sorting because non-concatenation axis is not aligned. A future version\n",
      "of pandas will change to not sort by default.\n",
      "\n",
      "To accept the future behavior, pass 'sort=False'.\n",
      "\n",
      "To retain the current behavior and silence the warning, pass 'sort=True'.\n",
      "\n",
      "  if sys.path[0] == '':\n"
     ]
    }
   ],
   "source": [
    "################################################################################\n",
    "# Notes - resetting index\n",
    "#\n",
    "# - Can reset index and make sequential\n",
    "################################################################################\n",
    "df4 = pd.DataFrame({'B': ['B2', 'B3', 'B6', 'B7'],\n",
    "                    'D': ['D2', 'D3', 'D6', 'D7'],\n",
    "                    'F': ['F2', 'F3', 'F6', 'F7']},\n",
    "                   index=[2, 3, 6, 7])\n",
    "# Concatenate along rows (i.e. vertical stacking)\n",
    "# Resets row numbers\n",
    "result = pd.concat([df1, df4], axis=0, ignore_index=True)\n",
    "print(result)\n",
    "print('\\n')\n",
    "\n",
    "# Concatenate along columns (i.e. horizontal stacking)\n",
    "# Resets column names\n",
    "result = pd.concat([df1, df4], axis=1, ignore_index=True)\n",
    "print(result)\n",
    "print('\\n')"
   ]
  },
  {
   "cell_type": "code",
   "execution_count": null,
   "metadata": {
    "collapsed": true
   },
   "outputs": [],
   "source": []
  },
  {
   "cell_type": "markdown",
   "metadata": {},
   "source": [
    "### Merge"
   ]
  },
  {
   "cell_type": "markdown",
   "metadata": {},
   "source": [
    "```python\n",
    "pd.merge(left, right, how='inner', on=None, left_on=None, right_on=None,\n",
    "         left_index=False, right_index=False, sort=True,\n",
    "         suffixes=('_x', '_y'), copy=True, indicator=False,\n",
    "         validate=None)\n",
    "```"
   ]
  },
  {
   "cell_type": "code",
   "execution_count": 10,
   "metadata": {},
   "outputs": [
    {
     "name": "stdout",
     "output_type": "stream",
     "text": [
      "    A   B key   C   D\n",
      "0  A0  B0  K0  C0  D0\n",
      "1  A1  B1  K1  C1  D1\n",
      "2  A2  B2  K2  C2  D2\n",
      "3  A3  B3  K3  C3  D3\n",
      "\n",
      "\n",
      "    C   D key   A   B\n",
      "0  C0  D0  K0  A0  B0\n",
      "1  C1  D1  K1  A1  B1\n",
      "2  C2  D2  K2  A2  B2\n",
      "3  C3  D3  K3  A3  B3\n",
      "\n",
      "\n"
     ]
    }
   ],
   "source": [
    "################################################################################\n",
    "# Notes - Merging on common column one-to-one\n",
    "#\n",
    "# - Think about merging as stitching or mappings\n",
    "# - The default join is INNER\n",
    "################################################################################\n",
    "table1 = pd.DataFrame({'key': ['K0', 'K1', 'K2', 'K3'],\n",
    "                       'A': ['A0', 'A1', 'A2', 'A3'],\n",
    "                       'B': ['B0', 'B1', 'B2', 'B3']})\n",
    " \n",
    "\n",
    "table2 = pd.DataFrame({'key': ['K0', 'K1', 'K2', 'K3'],\n",
    "                       'C': ['C0', 'C1', 'C2', 'C3'],\n",
    "                       'D': ['D0', 'D1', 'D2', 'D3']})\n",
    "\n",
    "# Merging on common column  'key'\n",
    "result = pd.merge(left=table1, right=table2, on='key')\n",
    "print(result)\n",
    "print('\\n')\n",
    "\n",
    "# Merging on common column  'key' in reverse order\n",
    "# Since the keys are one-to-one these are the same (though the columns are permuted)\n",
    "result = pd.merge(left=table2, right=table1, on='key')\n",
    "print(result)\n",
    "print('\\n')"
   ]
  },
  {
   "cell_type": "code",
   "execution_count": 11,
   "metadata": {},
   "outputs": [
    {
     "name": "stdout",
     "output_type": "stream",
     "text": [
      "    A   B key1 key2\n",
      "0  A0  B0   K0   K0\n",
      "1  A1  B1   K0   K1\n",
      "2  A2  B2   K1   K0\n",
      "3  A3  B3   K2   K1\n",
      "\n",
      "\n",
      "    C   D key1 key2\n",
      "0  C0  D0   K0   K0\n",
      "1  C1  D1   K1   K0\n",
      "2  C2  D2   K1   K0\n",
      "3  C3  D3   K2   K0\n",
      "\n",
      "\n",
      "    A   B key1 key2_x   C   D key2_y\n",
      "0  A0  B0   K0     K0  C0  D0     K0\n",
      "1  A1  B1   K0     K1  C0  D0     K0\n",
      "2  A2  B2   K1     K0  C1  D1     K0\n",
      "3  A2  B2   K1     K0  C2  D2     K0\n",
      "4  A3  B3   K2     K1  C3  D3     K0\n",
      "\n",
      "\n",
      "    C   D key1 key2_x   A   B key2_y\n",
      "0  C0  D0   K0     K0  A0  B0     K0\n",
      "1  C0  D0   K0     K0  A1  B1     K1\n",
      "2  C1  D1   K1     K0  A2  B2     K0\n",
      "3  C2  D2   K1     K0  A2  B2     K0\n",
      "4  C3  D3   K2     K0  A3  B3     K1\n",
      "\n",
      "\n",
      "    A   B key1 key2   C   D\n",
      "0  A0  B0   K0   K0  C0  D0\n",
      "1  A2  B2   K1   K0  C1  D1\n",
      "2  A2  B2   K1   K0  C2  D2\n",
      "\n",
      "\n",
      "    C   D key1 key2   A   B\n",
      "0  C0  D0   K0   K0  A0  B0\n",
      "1  C1  D1   K1   K0  A2  B2\n",
      "2  C2  D2   K1   K0  A2  B2\n",
      "\n",
      "\n"
     ]
    }
   ],
   "source": [
    "################################################################################\n",
    "# Notes - Merging on multiple columns\n",
    "#\n",
    "# - The domain of the mapping is the left key, return all entries in right table\n",
    "#     that match that key\n",
    "# - If there are common columns in both tables which are not joined on then they\n",
    "#     will be added but with suffixes '_x' for the left and '_y' for the right\n",
    "################################################################################\n",
    "\n",
    "table1 = pd.DataFrame({'key1': ['K0', 'K0', 'K1', 'K2'],\n",
    "                     'key2': ['K0', 'K1', 'K0', 'K1'],\n",
    "                     'A': ['A0', 'A1', 'A2', 'A3'],\n",
    "                     'B': ['B0', 'B1', 'B2', 'B3']}) \n",
    "\n",
    "table2 = pd.DataFrame({'key1': ['K0', 'K1', 'K1', 'K2'],\n",
    "                      'key2': ['K0', 'K0', 'K0', 'K0'],\n",
    "                      'C': ['C0', 'C1', 'C2', 'C3'],\n",
    "                      'D': ['D0', 'D1', 'D2', 'D3']})\n",
    "print(table1)\n",
    "print('\\n')\n",
    "print(table2)\n",
    "print('\\n')\n",
    "\n",
    "# Join on single key\n",
    "result = pd.merge(left=table1, right=table2, on=['key1'])\n",
    "print(result)\n",
    "print('\\n')\n",
    "\n",
    "# Note that the join is commutative since we are performing an inner join\n",
    "# The only difference is the suffixes added on the non-joined common column\n",
    "# key2\n",
    "result = pd.merge(left=table2, right=table1, on=['key1'])\n",
    "print(result)\n",
    "print('\\n')\n",
    "\n",
    "# Join on multiple keys means that both keys have to match both keys in\n",
    "# the target table. So, since table2 has no entry with (key1, key2) = (K0, K1)\n",
    "# this is not entered into the resulting (since this is an inner join)\n",
    "result = pd.merge(left=table1, right=table2, on=['key1', 'key2'])\n",
    "print(result)\n",
    "print('\\n')\n",
    "\n",
    "result = pd.merge(left=table2, right=table1, on=['key1', 'key2'])\n",
    "print(result)\n",
    "print('\\n')"
   ]
  },
  {
   "cell_type": "code",
   "execution_count": 12,
   "metadata": {},
   "outputs": [
    {
     "name": "stdout",
     "output_type": "stream",
     "text": [
      "     A    B key1 key2    C    D\n",
      "0   A0   B0   K0   K0   C0   D0\n",
      "1   A1   B1   K0   K1  NaN  NaN\n",
      "2   A2   B2   K1   K0   C1   D1\n",
      "3   A2   B2   K1   K0   C2   D2\n",
      "4   A3   B3   K2   K1  NaN  NaN\n",
      "5  NaN  NaN   K2   K0   C3   D3\n",
      "\n",
      "\n",
      "     C    D key1 key2    A    B\n",
      "0   C0   D0   K0   K0   A0   B0\n",
      "1   C1   D1   K1   K0   A2   B2\n",
      "2   C2   D2   K1   K0   A2   B2\n",
      "3   C3   D3   K2   K0  NaN  NaN\n",
      "4  NaN  NaN   K0   K1   A1   B1\n",
      "5  NaN  NaN   K2   K1   A3   B3\n",
      "\n",
      "\n",
      "    A   B key1 key2_x   C   D key2_y\n",
      "0  A0  B0   K0     K0  C0  D0     K0\n",
      "1  A1  B1   K0     K1  C0  D0     K0\n",
      "2  A2  B2   K1     K0  C1  D1     K0\n",
      "3  A2  B2   K1     K0  C2  D2     K0\n",
      "4  A3  B3   K2     K1  C3  D3     K0\n",
      "\n",
      "\n",
      "    C   D key1 key2_x   A   B key2_y\n",
      "0  C0  D0   K0     K0  A0  B0     K0\n",
      "1  C0  D0   K0     K0  A1  B1     K1\n",
      "2  C1  D1   K1     K0  A2  B2     K0\n",
      "3  C2  D2   K1     K0  A2  B2     K0\n",
      "4  C3  D3   K2     K0  A3  B3     K1\n",
      "\n",
      "\n"
     ]
    }
   ],
   "source": [
    "################################################################################\n",
    "# Notes - Full Outer Join\n",
    "#\n",
    "# - builds table with union of all keys from both left and right tables\n",
    "################################################################################\n",
    "\n",
    "table1 = pd.DataFrame({'key1': ['K0', 'K0', 'K1', 'K2'],\n",
    "                     'key2': ['K0', 'K1', 'K0', 'K1'],\n",
    "                     'A': ['A0', 'A1', 'A2', 'A3'],\n",
    "                     'B': ['B0', 'B1', 'B2', 'B3']}) \n",
    "\n",
    "table2 = pd.DataFrame({'key1': ['K0', 'K1', 'K1', 'K2'],\n",
    "                      'key2': ['K0', 'K0', 'K0', 'K0'],\n",
    "                      'C': ['C0', 'C1', 'C2', 'C3'],\n",
    "                      'D': ['D0', 'D1', 'D2', 'D3']})\n",
    "\n",
    "# Table will include all pairs from both left and right tables:\n",
    "#  From left:  (K0, K0), (K0, K1), (K1, K0), (K2, K1)\n",
    "#  From right: (K0, K0), (K1, K0), (K1, K0), (K2, K0)\n",
    "# All elements which do not have a counterpart will be filled with NaNs\n",
    "result = pd.merge(left=table1, right=table2, how='outer', on=['key1', 'key2'])\n",
    "print(result)\n",
    "print('\\n')\n",
    "\n",
    "# Note that up to column ordering the two tables are the same\n",
    "result = pd.merge(left=table2, right=table1, how='outer', on=['key1', 'key2'])\n",
    "print(result)\n",
    "print('\\n')\n",
    "\n",
    "result = pd.merge(left=table1, right=table2, how='outer', on=['key1'])\n",
    "print(result)\n",
    "print('\\n')\n",
    "\n",
    "# Note that up to column ordering the two tables are the same\n",
    "result = pd.merge(left=table2, right=table1, how='outer', on=['key1'])\n",
    "print(result)\n",
    "print('\\n')"
   ]
  },
  {
   "cell_type": "code",
   "execution_count": 13,
   "metadata": {},
   "outputs": [
    {
     "name": "stdout",
     "output_type": "stream",
     "text": [
      "    A   B key1 key2    C    D\n",
      "0  A0  B0   K0   K0   C0   D0\n",
      "1  A1  B1   K0   K1  NaN  NaN\n",
      "2  A2  B2   K1   K0   C1   D1\n",
      "3  A2  B2   K1   K0   C2   D2\n",
      "4  A3  B3   K2   K1  NaN  NaN\n",
      "\n",
      "\n",
      "    C   D key1 key2    A    B\n",
      "0  C0  D0   K0   K0   A0   B0\n",
      "1  C1  D1   K1   K0   A2   B2\n",
      "2  C2  D2   K1   K0   A2   B2\n",
      "3  C3  D3   K2   K0  NaN  NaN\n",
      "\n",
      "\n",
      "     A    B key1 key2   C   D\n",
      "0   A0   B0   K0   K0  C0  D0\n",
      "1   A2   B2   K1   K0  C1  D1\n",
      "2   A2   B2   K1   K0  C2  D2\n",
      "3  NaN  NaN   K2   K0  C3  D3\n",
      "\n",
      "\n",
      "     C    D key1 key2   A   B\n",
      "0   C0   D0   K0   K0  A0  B0\n",
      "1   C1   D1   K1   K0  A2  B2\n",
      "2   C2   D2   K1   K0  A2  B2\n",
      "3  NaN  NaN   K0   K1  A1  B1\n",
      "4  NaN  NaN   K2   K1  A3  B3\n",
      "\n",
      "\n"
     ]
    }
   ],
   "source": [
    "################################################################################\n",
    "# Notes - Left/Right Outer Join\n",
    "#\n",
    "# - Builds table using all of the keys in either the left or right table\n",
    "################################################################################\n",
    "\n",
    "table1 = pd.DataFrame({'key1': ['K0', 'K0', 'K1', 'K2'],\n",
    "                     'key2': ['K0', 'K1', 'K0', 'K1'],\n",
    "                     'A': ['A0', 'A1', 'A2', 'A3'],\n",
    "                     'B': ['B0', 'B1', 'B2', 'B3']}) \n",
    "\n",
    "table2 = pd.DataFrame({'key1': ['K0', 'K1', 'K1', 'K2'],\n",
    "                      'key2': ['K0', 'K0', 'K0', 'K0'],\n",
    "                      'C': ['C0', 'C1', 'C2', 'C3'],\n",
    "                      'D': ['D0', 'D1', 'D2', 'D3']})\n",
    "\n",
    "# This will have all of the keys from the left table. If there is no corresponding\n",
    "# element in the right table, they will be filled with NaNs. Also, a left key can\n",
    "# be duplicated if there are multiple entries in the right table with the same key\n",
    "result = pd.merge(left=table1, right=table2, how='left', on=['key1', 'key2'])\n",
    "print(result)\n",
    "print('\\n')\n",
    "\n",
    "# Note that this is NON-COMMUTATIVE\n",
    "result = pd.merge(left=table2, right=table1, how='left', on=['key1', 'key2'])\n",
    "print(result)\n",
    "print('\\n')\n",
    "\n",
    "# This will have all of the keys in the right table\n",
    "result = pd.merge(left=table1, right=table2, how='right', on=['key1', 'key2'])\n",
    "print(result)\n",
    "print('\\n')\n",
    "\n",
    "# Note however that left<->right and table1<->table2 is commutative\n",
    "result = pd.merge(left=table2, right=table1, how='right', on=['key1', 'key2'])\n",
    "print(result)\n",
    "print('\\n')"
   ]
  },
  {
   "cell_type": "markdown",
   "metadata": {},
   "source": [
    "### Join"
   ]
  },
  {
   "cell_type": "markdown",
   "metadata": {},
   "source": [
    "Join is really just a shorthand for merging on the indexes of the two tables by default. However, you can include a column argument to join to match a column in the left to an index on the right.\n",
    "i.e. the two are the same\n",
    "\n",
    "```python\n",
    "left.join(right, on=key_or_keys)\n",
    "pd.merge(left=left, right=right, left_on=key_or_keys, right_index=True, how='left')\n",
    "```"
   ]
  },
  {
   "cell_type": "code",
   "execution_count": 14,
   "metadata": {
    "scrolled": true
   },
   "outputs": [
    {
     "name": "stdout",
     "output_type": "stream",
     "text": [
      "    A   B key    C    D\n",
      "0  A0  B0  K0  NaN  NaN\n",
      "1  A1  B1  K1  NaN  NaN\n",
      "2  A2  B2  K0  NaN  NaN\n",
      "3  A3  B3  K1  NaN  NaN\n",
      "\n",
      "\n",
      "    A   B key   C   D\n",
      "0  A0  B0  K0  C0  D0\n",
      "1  A1  B1  K1  C1  D1\n",
      "2  A2  B2  K0  C0  D0\n",
      "3  A3  B3  K1  C1  D1\n",
      "\n",
      "\n",
      "  A_l B_l key_l    A    B  key\n",
      "0  A0  B0    K0   E0   D0   K0\n",
      "1  A1  B1    K1   E1   D1   K1\n",
      "2  A2  B2    K0   E2   D2   K1\n",
      "3  A3  B3    K1  NaN  NaN  NaN\n",
      "\n",
      "\n",
      "    A   B key_l    F    G key_r\n",
      "0  A0  B0    K0   F0   G0    K0\n",
      "1  A1  B1    K1   F1   G1    K1\n",
      "2  A2  B2    K0   F2   G2    K1\n",
      "3  A3  B3    K1  NaN  NaN   NaN\n",
      "\n",
      "\n"
     ]
    }
   ],
   "source": [
    "################################################################################\n",
    "# Notes - .join()\n",
    "#\n",
    "# - Shorthand designed for joining on indexes\n",
    "# - Default is a left outer join\n",
    "################################################################################\n",
    "\n",
    "table1 = pd.DataFrame({'A': ['A0', 'A1', 'A2', 'A3'],\n",
    "                       'B': ['B0', 'B1', 'B2', 'B3'],\n",
    "                       'key': ['K0', 'K1', 'K0', 'K1']})\n",
    "\n",
    "table2 = pd.DataFrame({'C': ['C0', 'C1'],\n",
    "                       'D': ['D0', 'D1']},\n",
    "                       index=['K0', 'K1'])\n",
    "\n",
    "table3 = pd.DataFrame({'A': ['E0', 'E1', 'E2'],\n",
    "                       'B': ['D0', 'D1', 'D2'],\n",
    "                       'key': ['K0', 'K1', 'K1',]})\n",
    "\n",
    "table4 = pd.DataFrame({'F': ['F0', 'F1', 'F2'],\n",
    "                       'G': ['G0', 'G1', 'G2'],\n",
    "                       'key': ['K0', 'K1', 'K1',]})\n",
    "\n",
    "# Note that since table 2's index is not a set of integers, but a set of strings\n",
    "# So, when it attempts to join, it will try to join on their indexes, but it\n",
    "# can't match any so all of right columns are filled with NaNs\n",
    "result = table1.join(table2)\n",
    "print(result)\n",
    "print('\\n')\n",
    "\n",
    "# Now we tell it to instead join on table1's column='key' which finds matches in\n",
    "# table2's index\n",
    "result = table1.join(table2, on='key')\n",
    "print(result)\n",
    "print('\\n')\n",
    "\n",
    "# Here will be able to match their indexes since they are both just row numbers.\n",
    "# However, the tables have columns with the same name, so we need to specify what\n",
    "# suffixes we want to add to the left or right column names to distinguish them\n",
    "result = table1.join(table3, lsuffix='_l')\n",
    "print(result)\n",
    "print('\\n')\n",
    "\n",
    "result = table1.join(table4, lsuffix='_l', rsuffix='_r')\n",
    "print(result)\n",
    "print('\\n')"
   ]
  },
  {
   "cell_type": "markdown",
   "metadata": {},
   "source": [
    "**Difference between '```append```, ```concat```, ```merge```, and ```join```**\n",
    "\n",
    "**```append```**\n",
    "* Solely for appending rows to a dataframe, but it is typically slow and seldomly used in favor of concat.\n",
    "* Exists as a dataframe method (i.e. is called via df.append )\n",
    "\n",
    "**```concat```**\n",
    "* For stacking dataframes vertically or horizontally.\n",
    "* Exists in the pandas namespace (i.e. is called via pd.concat)\n",
    "\n",
    "**```merge```**\n",
    "* For performing relational database style stitching\n",
    "\n",
    "**```join```**\n",
    "* A shortcut for merging on indices as opposed to merge which allows you to join along arbitrary columns.\n"
   ]
  }
 ],
 "metadata": {
  "kernelspec": {
   "display_name": "interview_prep",
   "language": "python",
   "name": "interview_prep"
  },
  "language_info": {
   "codemirror_mode": {
    "name": "ipython",
    "version": 3
   },
   "file_extension": ".py",
   "mimetype": "text/x-python",
   "name": "python",
   "nbconvert_exporter": "python",
   "pygments_lexer": "ipython3",
   "version": "3.5.2"
  }
 },
 "nbformat": 4,
 "nbformat_minor": 2
}
