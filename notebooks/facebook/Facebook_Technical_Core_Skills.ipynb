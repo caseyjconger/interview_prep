{
 "cells": [
  {
   "cell_type": "markdown",
   "metadata": {},
   "source": [
    "# Work with Grouping and Aggregate Functions"
   ]
  },
  {
   "cell_type": "code",
   "execution_count": 2,
   "metadata": {},
   "outputs": [],
   "source": [
    "import pandas as pd\n",
    "import numpy as np\n",
    "import seaborn as sns\n",
    "import matplotlib.pyplot as plt\n",
    "%matplotlib inline"
   ]
  },
  {
   "cell_type": "markdown",
   "metadata": {},
   "source": [
    "<dl class=\"method\">\n",
    "<dt id=\"pandas.DataFrame.groupby\">\n",
    "<code class=\"descclassname\">DataFrame.</code><code class=\"descname\">groupby</code><span class=\"sig-paren\">(</span><em>by=None</em>, <em>axis=0</em>, <em>level=None</em>, <em>as_index=True</em>, <em>sort=True</em>, <em>group_keys=True</em>, <em>squeeze=False</em>, <em>observed=False</em>, <em>**kwargs</em><span class=\"sig-paren\">)</span><a class=\"reference external\" href=\"http://github.com/pandas-dev/pandas/blob/v0.23.4/pandas/core/generic.py#L6592-L6665\"><span class=\"viewcode-link\">[source]</span></a><a class=\"headerlink\" href=\"#pandas.DataFrame.groupby\" title=\"Permalink to this definition\">¶</a></dt>\n",
    "<dd><p>Group series using mapper (dict or key function, apply given function\n",
    "to group, return result as series) or by a series of columns.</p>\n",
    "<table class=\"docutils field-list\" frame=\"void\" rules=\"none\">\n",
    "<colgroup><col class=\"field-name\">\n",
    "<col class=\"field-body\">\n",
    "</colgroup><tbody valign=\"top\">\n",
    "<tr class=\"field-odd field\"><th class=\"field-name\">Parameters:</th><td class=\"field-body\"><p class=\"first\"><strong>by</strong> : mapping, function, label, or list of labels</p>\n",
    "<blockquote>\n",
    "<div><p>Used to determine the groups for the groupby.\n",
    "If <code class=\"docutils literal notranslate\"><span class=\"pre\">by</span></code> is a function, it’s called on each value of the object’s\n",
    "index. If a dict or Series is passed, the Series or dict VALUES\n",
    "will be used to determine the groups (the Series’ values are first\n",
    "aligned; see <code class=\"docutils literal notranslate\"><span class=\"pre\">.align()</span></code> method). If an ndarray is passed, the\n",
    "values are used as-is determine the groups. A label or list of\n",
    "labels may be passed to group by the columns in <code class=\"docutils literal notranslate\"><span class=\"pre\">self</span></code>. Notice\n",
    "that a tuple is interpreted a (single) key.</p>\n",
    "</div></blockquote>\n",
    "<dl class=\"docutils\">\n",
    "<dt><strong>axis</strong> <span class=\"classifier-delimiter\">:</span> <span class=\"classifier\">int, default 0</span></dt>\n",
    "<dd></dd>\n",
    "</dl>\n",
    "<p><strong>level</strong> : int, level name, or sequence of such, default None</p>\n",
    "<blockquote>\n",
    "<div><p>If the axis is a MultiIndex (hierarchical), group by a particular\n",
    "level or levels</p>\n",
    "</div></blockquote>\n",
    "<p><strong>as_index</strong> : boolean, default True</p>\n",
    "<blockquote>\n",
    "<div><p>For aggregated output, return object with group labels as the\n",
    "index. Only relevant for DataFrame input. as_index=False is\n",
    "effectively “SQL-style” grouped output</p>\n",
    "</div></blockquote>\n",
    "<p><strong>sort</strong> : boolean, default True</p>\n",
    "<blockquote>\n",
    "<div><p>Sort group keys. Get better performance by turning this off.\n",
    "Note this does not influence the order of observations within each\n",
    "group.  groupby preserves the order of rows within each group.</p>\n",
    "</div></blockquote>\n",
    "<p><strong>group_keys</strong> : boolean, default True</p>\n",
    "<blockquote>\n",
    "<div><p>When calling apply, add group keys to index to identify pieces</p>\n",
    "</div></blockquote>\n",
    "<p><strong>squeeze</strong> : boolean, default False</p>\n",
    "<blockquote>\n",
    "<div><p>reduce the dimensionality of the return type if possible,\n",
    "otherwise return a consistent type</p>\n",
    "</div></blockquote>\n",
    "<p><strong>observed</strong> : boolean, default False</p>\n",
    "<blockquote>\n",
    "<div><p>This only applies if any of the groupers are Categoricals\n",
    "If True: only show observed values for categorical groupers.\n",
    "If False: show all values for categorical groupers.</p>\n",
    "<div class=\"versionadded\">\n",
    "<p><span class=\"versionmodified\">New in version 0.23.0.</span></p>\n",
    "</div>\n",
    "</div></blockquote>\n",
    "</td>\n",
    "</tr>\n",
    "<tr class=\"field-even field\"><th class=\"field-name\">Returns:</th><td class=\"field-body\"><dl class=\"first last docutils\">\n",
    "<dt><strong>GroupBy object</strong></dt>\n",
    "<dd></dd>\n",
    "</dl>\n",
    "</td>\n",
    "</tr>\n",
    "</tbody>\n",
    "</table>\n",
    "<div class=\"admonition seealso\">\n",
    "<p class=\"first admonition-title\">See also</p>\n",
    "<dl class=\"last docutils\">\n",
    "<dt><a class=\"reference internal\" href=\"pandas.DataFrame.resample.html#pandas.DataFrame.resample\" title=\"pandas.DataFrame.resample\"><code class=\"xref py py-obj docutils literal notranslate\"><span class=\"pre\">resample</span></code></a></dt>\n",
    "<dd>Convenience method for frequency conversion and resampling of time series.</dd>\n",
    "</dl>\n",
    "</div>\n",
    "<p class=\"rubric\">Notes</p>\n",
    "<p>See the <a class=\"reference external\" href=\"http://pandas.pydata.org/pandas-docs/stable/groupby.html\">user guide</a> for more.</p>\n",
    "<p class=\"rubric\">Examples</p>\n",
    "<p>DataFrame results</p>\n",
    "<div class=\"highlight-default notranslate\"><div class=\"highlight\"><pre><span></span><span class=\"gp\">&gt;&gt;&gt; </span><span class=\"n\">data</span><span class=\"o\">.</span><span class=\"n\">groupby</span><span class=\"p\">(</span><span class=\"n\">func</span><span class=\"p\">,</span> <span class=\"n\">axis</span><span class=\"o\">=</span><span class=\"mi\">0</span><span class=\"p\">)</span><span class=\"o\">.</span><span class=\"n\">mean</span><span class=\"p\">()</span>\n",
    "<span class=\"gp\">&gt;&gt;&gt; </span><span class=\"n\">data</span><span class=\"o\">.</span><span class=\"n\">groupby</span><span class=\"p\">([</span><span class=\"s1\">'col1'</span><span class=\"p\">,</span> <span class=\"s1\">'col2'</span><span class=\"p\">])[</span><span class=\"s1\">'col3'</span><span class=\"p\">]</span><span class=\"o\">.</span><span class=\"n\">mean</span><span class=\"p\">()</span>\n",
    "</pre></div>\n",
    "</div>\n",
    "<p>DataFrame with hierarchical index</p>\n",
    "<div class=\"highlight-default notranslate\"><div class=\"highlight\"><pre><span></span><span class=\"gp\">&gt;&gt;&gt; </span><span class=\"n\">data</span><span class=\"o\">.</span><span class=\"n\">groupby</span><span class=\"p\">([</span><span class=\"s1\">'col1'</span><span class=\"p\">,</span> <span class=\"s1\">'col2'</span><span class=\"p\">])</span><span class=\"o\">.</span><span class=\"n\">mean</span><span class=\"p\">()</span>\n",
    "</pre></div>\n",
    "</div>\n",
    "</dd></dl>"
   ]
  },
  {
   "cell_type": "code",
   "execution_count": 70,
   "metadata": {
    "scrolled": true
   },
   "outputs": [
    {
     "name": "stdout",
     "output_type": "stream",
     "text": [
      "   total_bill   tip     sex smoker  day    time  size\n",
      "0       16.99  1.01  Female     No  Sun  Dinner     2\n",
      "1       10.34  1.66    Male     No  Sun  Dinner     3\n",
      "2       21.01  3.50    Male     No  Sun  Dinner     3\n",
      "3       23.68  3.31    Male     No  Sun  Dinner     2\n",
      "4       24.59  3.61  Female     No  Sun  Dinner     4 \n",
      "\n",
      "       total_bill         tip        size\n",
      "count  244.000000  244.000000  244.000000\n",
      "mean    19.785943    2.998279    2.569672\n",
      "std      8.902412    1.383638    0.951100\n",
      "min      3.070000    1.000000    1.000000\n",
      "25%     13.347500    2.000000    2.000000\n",
      "50%     17.795000    2.900000    2.000000\n",
      "75%     24.127500    3.562500    3.000000\n",
      "max     50.810000   10.000000    6.000000\n"
     ]
    }
   ],
   "source": [
    "tips = sns.load_dataset('tips')\n",
    "print(tips.head(), '\\n')\n",
    "print(tips.describe())"
   ]
  },
  {
   "cell_type": "code",
   "execution_count": 17,
   "metadata": {},
   "outputs": [
    {
     "data": {
      "text/plain": [
       "sex\n",
       "Male      3.089618\n",
       "Female    2.833448\n",
       "Name: tip, dtype: float64"
      ]
     },
     "execution_count": 17,
     "metadata": {},
     "output_type": "execute_result"
    }
   ],
   "source": [
    "#Find average tip for men and women\n",
    "tips.groupby('sex').mean()['tip']"
   ]
  },
  {
   "cell_type": "markdown",
   "metadata": {},
   "source": [
    "### Who are better tippers? i.e. Who leaves a bigger percentage tip? Men or Women?"
   ]
  },
  {
   "cell_type": "code",
   "execution_count": 66,
   "metadata": {},
   "outputs": [
    {
     "name": "stdout",
     "output_type": "stream",
     "text": [
      "        total_bill       tip      size    tip_pct\n",
      "sex                                              \n",
      "Female   18.056897  2.833448  2.459770  15.691779\n",
      "Male     20.744076  3.089618  2.630573  14.893976\n",
      "Females tend to be better tippers.\n"
     ]
    }
   ],
   "source": [
    "tips = sns.load_dataset('tips')\n",
    "\n",
    "# Calculate means\n",
    "tips_sex = tips.groupby('sex').mean()\n",
    "tips_sex['tip_pct'] = tips_sex.apply(lambda x: 100 * (x['tip'] / x['total_bill']), axis=1)\n",
    "\n",
    "# Sort and compare the tip_pcts\n",
    "tips_sex.sort_values(by='tip_pct', ascending=False, inplace=True)\n",
    "print(tips_sex)\n",
    "\n",
    "better_tippers = tips_sex.iloc[0].name\n",
    "print('{}s tend to be better tippers.'.format(better_tippers))"
   ]
  },
  {
   "cell_type": "markdown",
   "metadata": {},
   "source": [
    "### Is the result above statistically significant?"
   ]
  },
  {
   "cell_type": "code",
   "execution_count": 67,
   "metadata": {},
   "outputs": [
    {
     "name": "stdout",
     "output_type": "stream",
     "text": [
      "We can reject the hypothesis that Men and Women tip the same with 72.14% confidence\n"
     ]
    }
   ],
   "source": [
    "################################################################################\n",
    "# We can use a Z-test here since our population is large enough that we can\n",
    "# safely approximate population mean and standard deviation by the sample values\n",
    "################################################################################\n",
    "\n",
    "from statsmodels.stats.weightstats import ztest\n",
    "\n",
    "\n",
    "tips = sns.load_dataset('tips')\n",
    "\n",
    "def tip_pct(row):\n",
    "    return 100.0 * (row['tip'] / row['total_bill'])\n",
    "tips['tip_pct'] = tips.apply(tip_pct, axis=1)\n",
    "\n",
    "tips_male = tips[tips['sex'] == 'Male']['tip_pct']\n",
    "tips_female = tips[tips['sex'] == 'Female']['tip_pct']\n",
    "t_stat, p_value = ztest(tips_male, tips_female)\n",
    "\n",
    "print('We can reject the hypothesis that Men and Women tip the same with {:.2f}% confidence'.format(100*(1-p_value)))"
   ]
  },
  {
   "cell_type": "markdown",
   "metadata": {},
   "source": [
    "### What is the optimal party type for tip percentages?"
   ]
  },
  {
   "cell_type": "code",
   "execution_count": 79,
   "metadata": {},
   "outputs": [
    {
     "data": {
      "text/plain": [
       "total_bill     3.07000\n",
       "tip            1.00000\n",
       "tip_pct       32.57329\n",
       "Name: (Female, Yes, Sat, Dinner, 1), dtype: float64"
      ]
     },
     "execution_count": 79,
     "metadata": {},
     "output_type": "execute_result"
    }
   ],
   "source": [
    "tips = sns.load_dataset('tips')\n",
    "\n",
    "def tip_pct(row):\n",
    "    return 100.0 * (row['tip'] / row['total_bill'])\n",
    "\n",
    "tips['tip_pct'] = tips.apply(tip_pct, axis=1)\n",
    "\n",
    "full_tips = tips.groupby(by=['sex', 'smoker', 'day', 'time', 'size']).mean()\n",
    "full_tips = full_tips.dropna()\n",
    "\n",
    "# We see that the highest percentage tippers are women who smoke and are eating\n",
    "# dinner alone on saturday night. Bleak.\n",
    "full_tips.loc[full_tips['tip_pct'].idxmax()]"
   ]
  },
  {
   "cell_type": "code",
   "execution_count": 84,
   "metadata": {},
   "outputs": [
    {
     "data": {
      "text/plain": [
       "total_bill    34.300000\n",
       "tip            6.700000\n",
       "tip_pct       19.533528\n",
       "Name: (Male, No, Thur, Lunch, 6), dtype: float64"
      ]
     },
     "execution_count": 84,
     "metadata": {},
     "output_type": "execute_result"
    }
   ],
   "source": [
    "# The largest magnitude tip comes from a non-smoking group of 6 on Thursday\n",
    "# at Lunch. Possibly a business lunch.\n",
    "full_tips.loc[full_tips['tip'].idxmax()]"
   ]
  },
  {
   "cell_type": "code",
   "execution_count": null,
   "metadata": {
    "collapsed": true
   },
   "outputs": [],
   "source": []
  }
 ],
 "metadata": {
  "kernelspec": {
   "display_name": "interview_prep",
   "language": "python",
   "name": "interview_prep"
  },
  "language_info": {
   "codemirror_mode": {
    "name": "ipython",
    "version": 3
   },
   "file_extension": ".py",
   "mimetype": "text/x-python",
   "name": "python",
   "nbconvert_exporter": "python",
   "pygments_lexer": "ipython3",
   "version": "3.5.2"
  }
 },
 "nbformat": 4,
 "nbformat_minor": 2
}
